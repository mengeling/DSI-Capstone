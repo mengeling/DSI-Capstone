{
 "cells": [
  {
   "cell_type": "markdown",
   "metadata": {},
   "source": [
    "# Modeling"
   ]
  },
  {
   "cell_type": "code",
   "execution_count": 25,
   "metadata": {},
   "outputs": [
    {
     "name": "stdout",
     "output_type": "stream",
     "text": [
      "The autoreload extension is already loaded. To reload it, use:\n",
      "  %reload_ext autoreload\n"
     ]
    }
   ],
   "source": [
    "import warnings\n",
    "warnings.filterwarnings(\"ignore\")\n",
    "import matplotlib.pyplot as plt\n",
    "%matplotlib inline\n",
    "%load_ext autoreload\n",
    "%autoreload 2\n",
    "\n",
    "import pandas as pd\n",
    "import numpy as np\n",
    "from itertools import product\n",
    "from collections import defaultdict\n",
    "from sqlalchemy import create_engine\n",
    "from sklearn.pipeline import make_pipeline\n",
    "from sklearn.feature_selection import RFE\n",
    "from sklearn.model_selection import train_test_split, KFold, GridSearchCV\n",
    "from sklearn.metrics import confusion_matrix, roc_curve, roc_auc_score, precision_score, recall_score\n",
    "from sklearn.preprocessing import StandardScaler\n",
    "from sklearn.linear_model import LogisticRegression, SGDClassifier\n",
    "from sklearn.ensemble import RandomForestClassifier, GradientBoostingClassifier\n",
    "\n",
    "import sys\n",
    "sys.path.append(\"../model\")\n",
    "from build_model import get_data\n",
    "from pipeline import Pipeline\n",
    "import constants as C"
   ]
  },
  {
   "cell_type": "code",
   "execution_count": 61,
   "metadata": {
    "collapsed": true
   },
   "outputs": [],
   "source": [
    "pd.options.display.float_format = '{:.2f}'.format\n",
    "np.set_printoptions.float_format = '{:.2f}'.format"
   ]
  },
  {
   "cell_type": "code",
   "execution_count": 7,
   "metadata": {
    "collapsed": true
   },
   "outputs": [],
   "source": [
    "# taken from churn case study solution\n",
    "def plot_feature_importances(df, feature_importances):\n",
    "    feat_scores = pd.DataFrame({'Mean Decrease Impurity' : feature_importances},\n",
    "                           index=KEEP)\n",
    "    feat_scores = feat_scores.sort_values(by='Mean Decrease Impurity')\n",
    "    feat_scores.plot(kind='barh', figsize=(8,8))"
   ]
  },
  {
   "cell_type": "code",
   "execution_count": 8,
   "metadata": {
    "collapsed": true
   },
   "outputs": [],
   "source": [
    "# stolen from sklearn's example\n",
    "def plot_confusion_matrix(cm):\n",
    "    plt.imshow(cm, interpolation='nearest', cmap=plt.cm.Blues)\n",
    "    plt.title(\"Confusion Matrix\")\n",
    "    plt.colorbar()\n",
    "    plt.xticks(np.arange(2), [\"Finished\", \"Cancelled\"], rotation=45)\n",
    "    plt.yticks(np.arange(2), [\"Finished\", \"Cancelled\"])\n",
    "    for i, j in product(range(cm.shape[0]), range(cm.shape[1])):\n",
    "        plt.text(j, i, format(cm[i, j], 'd'), horizontalalignment=\"center\",\n",
    "                 color=\"white\" if cm[i, j] > cm.max() / 2 else \"black\")\n",
    "    plt.ylabel('True label')\n",
    "    plt.xlabel('Predicted label')\n",
    "    plt.show()"
   ]
  },
  {
   "cell_type": "code",
   "execution_count": 9,
   "metadata": {
    "collapsed": true
   },
   "outputs": [],
   "source": [
    "# ripped from sklearn as well\n",
    "def plot_roc_curve(fpr, tpr, thresholds, auc):\n",
    "    plt.plot(fpr, tpr, color='darkorange', lw=2, label='ROC curve (area = %0.2f)' % auc)\n",
    "    plt.plot([0, 1], [0, 1], color='navy', lw=2, linestyle='--')\n",
    "    plt.xlim([0.0, 1.0])\n",
    "    plt.ylim([0.0, 1.05])\n",
    "    plt.xlabel('False Positive Rate')\n",
    "    plt.ylabel('True Positive Rate')\n",
    "    plt.title('ROC Curve')\n",
    "    plt.legend(loc=\"lower right\")\n",
    "    plt.show()"
   ]
  },
  {
   "cell_type": "code",
   "execution_count": 10,
   "metadata": {
    "collapsed": true
   },
   "outputs": [],
   "source": [
    "def get_past_ride_cnt(df, y):\n",
    "    d = defaultdict(list)\n",
    "    ride_history = []\n",
    "    for i, user_id in enumerate(df[\"user_id\"]):\n",
    "        ride_history.append(d[user_id].copy())\n",
    "        if y is not None:\n",
    "            d[user_id].append(y[i])\n",
    "    return ride_history\n",
    "\n",
    "def change_datetimes(df, *args):\n",
    "    for col_name in args:\n",
    "        df[col_name] = pd.to_datetime('1899-12-30') + pd.to_timedelta(df[col_name], 'D')\n",
    "    return df\n",
    "\n",
    "def calculate_time_between(df, **kwargs):\n",
    "    for k, (v1, v2) in kwargs.items():\n",
    "        df[k] = (df[v1] - df[v2]).dt.total_seconds() / 86400\n",
    "    return df"
   ]
  },
  {
   "cell_type": "markdown",
   "metadata": {},
   "source": [
    "### Read data"
   ]
  },
  {
   "cell_type": "code",
   "execution_count": 2,
   "metadata": {
    "collapsed": true
   },
   "outputs": [],
   "source": [
    "engine = create_engine(C.ENGINE)\n",
    "df = get_data(engine)\n",
    "df[\"current_state\"] = ((df[\"current_state\"] != \"finished\") & (df[\"current_state\"] != \"started\")).astype(int)\n",
    "y = df.pop(\"current_state\").values\n",
    "y_mean = y.mean()"
   ]
  },
  {
   "cell_type": "code",
   "execution_count": 91,
   "metadata": {},
   "outputs": [
    {
     "data": {
      "text/plain": [
       "(456387, 19)"
      ]
     },
     "execution_count": 91,
     "metadata": {},
     "output_type": "execute_result"
    }
   ],
   "source": [
    "df.shape"
   ]
  },
  {
   "cell_type": "code",
   "execution_count": 14,
   "metadata": {},
   "outputs": [],
   "source": [
    "df_temp = df.copy()\n",
    "df_temp[\"rides\"] = get_past_ride_cnt(df_temp, y)\n",
    "df_temp[\"past_rides\"] = df_temp[\"rides\"].apply(lambda lst: len(lst))\n",
    "df_temp[\"past_cancellations\"] = df_temp[\"rides\"].apply(lambda lst: sum(lst))\n",
    "df_temp[\"past_percent_cancelled\"] = df_temp[\"past_cancellations\"] / df_temp[\"past_rides\"]\n",
    "df_temp[\"past_percent_cancelled\"] = df_temp[\"past_percent_cancelled\"].fillna(y_mean)\n",
    "\n",
    "df_temp = change_datetimes(df_temp, \"pickup\", \"dropoff\", \"created_at\", \"updated_at\", \"created_at_user\")\n",
    "df_temp = calculate_time_between(df_temp, days_to_pickup=(\"pickup\", \"created_at\"), trip_duration=(\"dropoff\", \"pickup\"))\n",
    "df_temp[\"pickup_dow\"] = df_temp[\"pickup\"].dt.dayofweek\n",
    "df_temp[\"weekend_pickup\"] = df_temp[\"pickup_dow\"].isin([4, 5, 6]).astype(int)\n",
    "df_temp[\"winter_pickup\"] = df_temp[\"pickup\"].dt.month.isin([1, 12]).astype(int)\n",
    "df_temp[\"western_pickup\"] = ((df_temp[\"time_zone\"] == \"pst\") | (df_temp[\"time_zone\"] == \"mst\")).astype(int)\n",
    "\n",
    "df_temp[\"used_promo\"] = df_temp[\"promo_code_id\"].notnull().astype(int)\n",
    "df_temp[\"used_referral\"] = df_temp[\"referral_code\"].notnull().astype(int)\n",
    "df_temp[\"credit_card\"] = df_temp[\"postal_code\"].notnull().astype(int)\n",
    "df_temp[\"web_booking\"] = (df_temp[\"booking_application\"] == \"web\").astype(int)\n",
    "df_temp[\"new_customer\"] = (df_temp[\"reservation_frequency\"] == \"new_customer\").astype(int)\n",
    "df_temp[\"modified_profile\"] = (df_temp[\"updated_at\"] > df_temp[\"created_at_user\"])\n",
    "df_temp[\"modified_profile_after_day1\"] = (df_temp[\"updated_at\"].dt.date > df_temp[\"created_at_user\"].dt.date)"
   ]
  },
  {
   "cell_type": "code",
   "execution_count": 15,
   "metadata": {
    "collapsed": true
   },
   "outputs": [],
   "source": [
    "KEEP = [\"created_as_guest\", \"local_rental\", \"awards_referral_bonus\", \"is_gds_user\",\n",
    "        \"insurance_corporate\", \"insurance_personal\", \"insurance_silvercar\", \"days_to_pickup\",\n",
    "        \"trip_duration\", \"weekend_pickup\", \"winter_pickup\", \"used_promo\", \"used_referral\",\n",
    "        \"credit_card\", \"web_booking\", \"new_customer\", \"past_rides\", \"past_cancellations\",\n",
    "        \"past_percent_cancelled\", \"pickup_dow\", \"modified_profile\", \"modified_profile_after_day1\", \"western_pickup\"]\n",
    "df_temp = df_temp[KEEP].fillna(0)"
   ]
  },
  {
   "cell_type": "code",
   "execution_count": 16,
   "metadata": {},
   "outputs": [],
   "source": [
    "X_train, X_test, y_train, y_test = train_test_split(df_temp, y)\n",
    "scaler = StandardScaler()\n",
    "X_train = scaler.fit_transform(X_train)\n",
    "X_test = scaler.transform(X_test)"
   ]
  },
  {
   "cell_type": "code",
   "execution_count": 17,
   "metadata": {},
   "outputs": [
    {
     "name": "stdout",
     "output_type": "stream",
     "text": [
      "Accuracy: 0.7833247149355373\n",
      "Precision: 0.8418887387940562\n",
      "Recall: 0.5835213005915649\n"
     ]
    }
   ],
   "source": [
    "clf = LogisticRegression()\n",
    "clf.fit(X_train, y_train)\n",
    "predictions = clf.predict(X_test)\n",
    "probabilities = clf.predict_proba(X_test)[:, 1]\n",
    "print(\"Accuracy: {}\".format(clf.score(X_test, y_test)))\n",
    "print(\"Precision: {}\".format(precision_score(y_test, predictions)))\n",
    "print(\"Recall: {}\".format(recall_score(y_test, predictions)))"
   ]
  },
  {
   "cell_type": "code",
   "execution_count": 18,
   "metadata": {},
   "outputs": [
    {
     "data": {
      "image/png": "[encoded data removed]",
      "text/plain": [
       "<matplotlib.figure.Figure at 0x1a11222320>"
      ]
     },
     "metadata": {},
     "output_type": "display_data"
    }
   ],
   "source": [
    "plot_feature_importances(X_train, np.abs(clf.coef_[0]))"
   ]
  },
  {
   "cell_type": "code",
   "execution_count": 19,
   "metadata": {},
   "outputs": [
    {
     "data": {
      "image/png": "[encoded data removed]",
      "text/plain": [
       "<matplotlib.figure.Figure at 0x1a0fcde470>"
      ]
     },
     "metadata": {},
     "output_type": "display_data"
    }
   ],
   "source": [
    "cm = confusion_matrix(y_test, predictions)\n",
    "plot_confusion_matrix(cm)"
   ]
  },
  {
   "cell_type": "code",
   "execution_count": 20,
   "metadata": {
    "scrolled": true
   },
   "outputs": [
    {
     "data": {
      "image/png": "[encoded data removed]",
      "text/plain": [
       "<matplotlib.figure.Figure at 0x1a0ed1fe48>"
      ]
     },
     "metadata": {},
     "output_type": "display_data"
    }
   ],
   "source": [
    "fpr, tpr, thresholds =  roc_curve(y_test, probabilities)\n",
    "auc = roc_auc_score(y_test, probabilities)\n",
    "plot_roc_curve(fpr, tpr, thresholds, auc)"
   ]
  },
  {
   "cell_type": "markdown",
   "metadata": {},
   "source": [
    "### Test different models"
   ]
  },
  {
   "cell_type": "code",
   "execution_count": 21,
   "metadata": {
    "collapsed": true
   },
   "outputs": [],
   "source": [
    "X_train, X_test, y_train, y_test = train_test_split(df_temp, y, test_size=0.2)"
   ]
  },
  {
   "cell_type": "code",
   "execution_count": 22,
   "metadata": {},
   "outputs": [
    {
     "data": {
      "text/plain": [
       "GridSearchCV(cv=None, error_score='raise',\n",
       "       estimator=LogisticRegression(C=1.0, class_weight=None, dual=False, fit_intercept=True,\n",
       "          intercept_scaling=1, max_iter=100, multi_class='ovr', n_jobs=1,\n",
       "          penalty='l2', random_state=None, solver='liblinear', tol=0.0001,\n",
       "          verbose=0, warm_start=False),\n",
       "       fit_params=None, iid=True, n_jobs=1,\n",
       "       param_grid={'C': array([  1.00000e-02,   2.78256e-02,   7.74264e-02,   2.15443e-01,\n",
       "         5.99484e-01,   1.66810e+00,   4.64159e+00,   1.29155e+01,\n",
       "         3.59381e+01,   1.00000e+02])},\n",
       "       pre_dispatch='2*n_jobs', refit=True, return_train_score='warn',\n",
       "       scoring=None, verbose=0)"
      ]
     },
     "execution_count": 22,
     "metadata": {},
     "output_type": "execute_result"
    }
   ],
   "source": [
    "parameters = {\"C\": np.logspace(-2, 2, 10)}\n",
    "clf = GridSearchCV(LogisticRegression(), parameters)\n",
    "clf.fit(X_train, y_train)"
   ]
  },
  {
   "cell_type": "code",
   "execution_count": 23,
   "metadata": {},
   "outputs": [
    {
     "name": "stdout",
     "output_type": "stream",
     "text": [
      "Accuracy: 0.7823243278774732\n",
      "Precision: 0.8363286511448913\n",
      "Recall: 0.5818785477133983\n"
     ]
    }
   ],
   "source": [
    "predictions = clf.predict(X_test)\n",
    "print(\"Accuracy: {}\".format(clf.score(X_test, y_test)))\n",
    "print(\"Precision: {}\".format(precision_score(y_test, predictions)))\n",
    "print(\"Recall: {}\".format(recall_score(y_test, predictions)))"
   ]
  },
  {
   "cell_type": "code",
   "execution_count": null,
   "metadata": {
    "collapsed": true
   },
   "outputs": [],
   "source": []
  },
  {
   "cell_type": "code",
   "execution_count": 26,
   "metadata": {},
   "outputs": [
    {
     "name": "stdout",
     "output_type": "stream",
     "text": [
      "Accuracy: 0.7545191612436731\n",
      "Precision: 0.6950165766047981\n",
      "Recall: 0.7128628038984685\n"
     ]
    }
   ],
   "source": [
    "clf = SGDClassifier()\n",
    "clf.fit(X_train, y_train)\n",
    "predictions = clf.predict(X_test)\n",
    "print(\"Accuracy: {}\".format(clf.score(X_test, y_test)))\n",
    "print(\"Precision: {}\".format(precision_score(y_test, predictions)))\n",
    "print(\"Recall: {}\".format(recall_score(y_test, predictions)))"
   ]
  },
  {
   "cell_type": "code",
   "execution_count": null,
   "metadata": {
    "collapsed": true
   },
   "outputs": [],
   "source": []
  },
  {
   "cell_type": "code",
   "execution_count": 27,
   "metadata": {},
   "outputs": [
    {
     "name": "stdout",
     "output_type": "stream",
     "text": [
      "Accuracy: 0.7935318477617826\n",
      "Precision: 0.8386163982430453\n",
      "Recall: 0.613446503159473\n"
     ]
    }
   ],
   "source": [
    "parameters = {\"max_depth\": [3, None],\n",
    "              \"max_features\": [1, 3, 10],\n",
    "              \"min_samples_split\": [2, 3, 10],\n",
    "              \"min_samples_leaf\": [1, 3, 10]}\n",
    "clf = GridSearchCV(RandomForestClassifier(), parameters)\n",
    "clf.fit(X_train, y_train)\n",
    "predictions = clf.predict(X_test)\n",
    "print(\"Accuracy: {}\".format(clf.score(X_test, y_test)))\n",
    "print(\"Precision: {}\".format(precision_score(y_test, predictions)))\n",
    "print(\"Recall: {}\".format(recall_score(y_test, predictions)))"
   ]
  },
  {
   "cell_type": "code",
   "execution_count": null,
   "metadata": {
    "collapsed": true
   },
   "outputs": [],
   "source": []
  },
  {
   "cell_type": "code",
   "execution_count": null,
   "metadata": {},
   "outputs": [],
   "source": [
    "clf = GradientBoostingClassifier(n_estimators=20, max_depth=8, subsample=0.5, \n",
    "                                 max_features='auto', learning_rate=0.05)\n",
    "clf.fit(X_train, y_train)\n",
    "print(\"Accuracy: {}\".format(clf.score(X_test, y_test)))\n",
    "print(\"Precision: {}\".format(precision_score(y_test, predictions)))\n",
    "print(\"Recall: {}\".format(recall_score(y_test, predictions)))"
   ]
  },
  {
   "cell_type": "code",
   "execution_count": null,
   "metadata": {
    "collapsed": true
   },
   "outputs": [],
   "source": []
  },
  {
   "cell_type": "code",
   "execution_count": null,
   "metadata": {
    "collapsed": true
   },
   "outputs": [],
   "source": []
  },
  {
   "cell_type": "markdown",
   "metadata": {},
   "source": [
    "### Feature Selection"
   ]
  },
  {
   "cell_type": "code",
   "execution_count": null,
   "metadata": {
    "collapsed": true
   },
   "outputs": [],
   "source": []
  }
 ],
 "metadata": {
  "kernelspec": {
   "display_name": "Python 3",
   "language": "python",
   "name": "python3"
  },
  "language_info": {
   "codemirror_mode": {
    "name": "ipython",
    "version": 3
   },
   "file_extension": ".py",
   "mimetype": "text/x-python",
   "name": "python",
   "nbconvert_exporter": "python",
   "pygments_lexer": "ipython3",
   "version": "3.6.3"
  }
 },
 "nbformat": 4,
 "nbformat_minor": 2
}
