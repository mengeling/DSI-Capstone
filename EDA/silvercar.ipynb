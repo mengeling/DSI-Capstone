{
 "cells": [
  {
   "cell_type": "markdown",
   "metadata": {},
   "source": [
    "# EDA"
   ]
  },
  {
   "cell_type": "code",
   "execution_count": 125,
   "metadata": {
    "collapsed": true
   },
   "outputs": [],
   "source": [
    "import pandas as pd\n",
    "import numpy as np\n",
    "import warnings\n",
    "warnings.filterwarnings(\"ignore\")\n",
    "import matplotlib.pyplot as plt\n",
    "%matplotlib inline\n",
    "from sklearn.model_selection import train_test_split\n",
    "from sklearn.linear_model import LogisticRegression\n",
    "from sklearn.ensemble import RandomForestClassifier\n",
    "from sklearn.ensemble import GradientBoostingClassifier"
   ]
  },
  {
   "cell_type": "markdown",
   "metadata": {},
   "source": [
    "### Create dataframes"
   ]
  },
  {
   "cell_type": "code",
   "execution_count": 2,
   "metadata": {},
   "outputs": [],
   "source": [
    "df = pd.read_csv('../data/silvercar_reservations.csv')\n",
    "df_users = pd.read_csv('../data/silvercar_users.csv')\n",
    "df_promos = pd.read_csv('../data/silvercar_promotions.csv', encoding=\"ISO-8859-1\")\n",
    "df_promo_codes = pd.read_csv('../data/silvercar_promo_codes.csv', encoding=\"ISO-8859-1\")\n",
    "df_locs = pd.read_csv('../data/silvercar_locations.csv', encoding=\"ISO-8859-1\")"
   ]
  },
  {
   "cell_type": "markdown",
   "metadata": {},
   "source": [
    "#### Change pandas and numpy display for interpretability"
   ]
  },
  {
   "cell_type": "code",
   "execution_count": 3,
   "metadata": {},
   "outputs": [],
   "source": [
    "pd.options.display.float_format = '{:.2f}'.format\n",
    "np.set_printoptions.float_format = '{:.2f}'.format"
   ]
  },
  {
   "cell_type": "code",
   "execution_count": 4,
   "metadata": {},
   "outputs": [
    {
     "data": {
      "text/html": [
       "<div>\n",
       "<style>\n",
       "    .dataframe thead tr:only-child th {\n",
       "        text-align: right;\n",
       "    }\n",
       "\n",
       "    .dataframe thead th {\n",
       "        text-align: left;\n",
       "    }\n",
       "\n",
       "    .dataframe tbody tr th {\n",
       "        vertical-align: top;\n",
       "    }\n",
       "</style>\n",
       "<table border=\"1\" class=\"dataframe\">\n",
       "  <thead>\n",
       "    <tr style=\"text-align: right;\">\n",
       "      <th></th>\n",
       "      <th>id</th>\n",
       "      <th>pickup</th>\n",
       "      <th>dropoff</th>\n",
       "      <th>user_id</th>\n",
       "      <th>status</th>\n",
       "      <th>confirmation_token</th>\n",
       "      <th>created_at</th>\n",
       "      <th>updated_at</th>\n",
       "      <th>booked_price</th>\n",
       "      <th>current_state</th>\n",
       "      <th>...</th>\n",
       "      <th>publisher_id</th>\n",
       "      <th>cancelled_at</th>\n",
       "      <th>local_rental</th>\n",
       "      <th>booked_by_id</th>\n",
       "      <th>awards_referral_bonus</th>\n",
       "      <th>extole_conversion_id</th>\n",
       "      <th>potential_local_rental</th>\n",
       "      <th>claimed_at</th>\n",
       "      <th>customer_modifiable</th>\n",
       "      <th>credit_card_id</th>\n",
       "    </tr>\n",
       "  </thead>\n",
       "  <tbody>\n",
       "    <tr>\n",
       "      <th>0</th>\n",
       "      <td>89</td>\n",
       "      <td>41288.29</td>\n",
       "      <td>41289.40</td>\n",
       "      <td>12.00</td>\n",
       "      <td>nan</td>\n",
       "      <td>5B23231DC0</td>\n",
       "      <td>41269.81</td>\n",
       "      <td>41417.80</td>\n",
       "      <td>nan</td>\n",
       "      <td>cancelled</td>\n",
       "      <td>...</td>\n",
       "      <td>NaN</td>\n",
       "      <td>nan</td>\n",
       "      <td>0</td>\n",
       "      <td>nan</td>\n",
       "      <td>0</td>\n",
       "      <td>nan</td>\n",
       "      <td>nan</td>\n",
       "      <td>nan</td>\n",
       "      <td>1</td>\n",
       "      <td>nan</td>\n",
       "    </tr>\n",
       "    <tr>\n",
       "      <th>1</th>\n",
       "      <td>91</td>\n",
       "      <td>41307.79</td>\n",
       "      <td>41308.79</td>\n",
       "      <td>49.00</td>\n",
       "      <td>nan</td>\n",
       "      <td>9A10C66F0C</td>\n",
       "      <td>41269.85</td>\n",
       "      <td>41417.80</td>\n",
       "      <td>nan</td>\n",
       "      <td>cancelled</td>\n",
       "      <td>...</td>\n",
       "      <td>NaN</td>\n",
       "      <td>nan</td>\n",
       "      <td>0</td>\n",
       "      <td>nan</td>\n",
       "      <td>0</td>\n",
       "      <td>nan</td>\n",
       "      <td>nan</td>\n",
       "      <td>nan</td>\n",
       "      <td>1</td>\n",
       "      <td>nan</td>\n",
       "    </tr>\n",
       "    <tr>\n",
       "      <th>2</th>\n",
       "      <td>93</td>\n",
       "      <td>41297.42</td>\n",
       "      <td>41310.83</td>\n",
       "      <td>51.00</td>\n",
       "      <td>nan</td>\n",
       "      <td>157C8653CA</td>\n",
       "      <td>41269.87</td>\n",
       "      <td>41417.80</td>\n",
       "      <td>nan</td>\n",
       "      <td>cancelled</td>\n",
       "      <td>...</td>\n",
       "      <td>NaN</td>\n",
       "      <td>nan</td>\n",
       "      <td>0</td>\n",
       "      <td>nan</td>\n",
       "      <td>0</td>\n",
       "      <td>nan</td>\n",
       "      <td>nan</td>\n",
       "      <td>nan</td>\n",
       "      <td>1</td>\n",
       "      <td>nan</td>\n",
       "    </tr>\n",
       "    <tr>\n",
       "      <th>3</th>\n",
       "      <td>94</td>\n",
       "      <td>41291.54</td>\n",
       "      <td>41293.83</td>\n",
       "      <td>45.00</td>\n",
       "      <td>nan</td>\n",
       "      <td>C48194AA4F</td>\n",
       "      <td>41269.91</td>\n",
       "      <td>41417.80</td>\n",
       "      <td>nan</td>\n",
       "      <td>cancelled</td>\n",
       "      <td>...</td>\n",
       "      <td>NaN</td>\n",
       "      <td>nan</td>\n",
       "      <td>0</td>\n",
       "      <td>nan</td>\n",
       "      <td>0</td>\n",
       "      <td>nan</td>\n",
       "      <td>nan</td>\n",
       "      <td>nan</td>\n",
       "      <td>1</td>\n",
       "      <td>nan</td>\n",
       "    </tr>\n",
       "    <tr>\n",
       "      <th>4</th>\n",
       "      <td>95</td>\n",
       "      <td>41290.98</td>\n",
       "      <td>41291.79</td>\n",
       "      <td>55.00</td>\n",
       "      <td>nan</td>\n",
       "      <td>AABEB48B94</td>\n",
       "      <td>41269.94</td>\n",
       "      <td>41702.08</td>\n",
       "      <td>nan</td>\n",
       "      <td>finished</td>\n",
       "      <td>...</td>\n",
       "      <td>NaN</td>\n",
       "      <td>nan</td>\n",
       "      <td>0</td>\n",
       "      <td>nan</td>\n",
       "      <td>0</td>\n",
       "      <td>nan</td>\n",
       "      <td>nan</td>\n",
       "      <td>nan</td>\n",
       "      <td>1</td>\n",
       "      <td>nan</td>\n",
       "    </tr>\n",
       "  </tbody>\n",
       "</table>\n",
       "<p>5 rows × 52 columns</p>\n",
       "</div>"
      ],
      "text/plain": [
       "   id   pickup  dropoff  user_id  status confirmation_token  created_at  \\\n",
       "0  89 41288.29 41289.40    12.00     nan         5B23231DC0    41269.81   \n",
       "1  91 41307.79 41308.79    49.00     nan         9A10C66F0C    41269.85   \n",
       "2  93 41297.42 41310.83    51.00     nan         157C8653CA    41269.87   \n",
       "3  94 41291.54 41293.83    45.00     nan         C48194AA4F    41269.91   \n",
       "4  95 41290.98 41291.79    55.00     nan         AABEB48B94    41269.94   \n",
       "\n",
       "   updated_at  booked_price current_state       ...        publisher_id  \\\n",
       "0    41417.80           nan     cancelled       ...                 NaN   \n",
       "1    41417.80           nan     cancelled       ...                 NaN   \n",
       "2    41417.80           nan     cancelled       ...                 NaN   \n",
       "3    41417.80           nan     cancelled       ...                 NaN   \n",
       "4    41702.08           nan      finished       ...                 NaN   \n",
       "\n",
       "   cancelled_at  local_rental  booked_by_id  awards_referral_bonus  \\\n",
       "0           nan             0           nan                      0   \n",
       "1           nan             0           nan                      0   \n",
       "2           nan             0           nan                      0   \n",
       "3           nan             0           nan                      0   \n",
       "4           nan             0           nan                      0   \n",
       "\n",
       "   extole_conversion_id  potential_local_rental  claimed_at  \\\n",
       "0                   nan                     nan         nan   \n",
       "1                   nan                     nan         nan   \n",
       "2                   nan                     nan         nan   \n",
       "3                   nan                     nan         nan   \n",
       "4                   nan                     nan         nan   \n",
       "\n",
       "   customer_modifiable  credit_card_id  \n",
       "0                    1             nan  \n",
       "1                    1             nan  \n",
       "2                    1             nan  \n",
       "3                    1             nan  \n",
       "4                    1             nan  \n",
       "\n",
       "[5 rows x 52 columns]"
      ]
     },
     "execution_count": 4,
     "metadata": {},
     "output_type": "execute_result"
    }
   ],
   "source": [
    "df.head()"
   ]
  },
  {
   "cell_type": "code",
   "execution_count": 5,
   "metadata": {},
   "outputs": [
    {
     "data": {
      "text/plain": [
       "id                                                 0\n",
       "pickup                                             0\n",
       "dropoff                                            0\n",
       "user_id                                            1\n",
       "status                                        462564\n",
       "confirmation_token                                 0\n",
       "created_at                                         0\n",
       "updated_at                                         0\n",
       "booked_price                                  439186\n",
       "current_state                                      0\n",
       "booked_daily_rate                             439186\n",
       "confirmed                                          0\n",
       "reservation_type_id                                0\n",
       "pickup_location_id                                 0\n",
       "dropoff_location_id                                0\n",
       "rental_agreement_id                           193945\n",
       "promo_code_id                                 265766\n",
       "actual_pickup                                 193823\n",
       "actual_dropoff                                194458\n",
       "one_day_reminder_sent                              0\n",
       "two_day_reminder_profile_incomplete_sent           0\n",
       "three_day_reminder_profile_incomplete_sent         0\n",
       "created_as_guest                                   0\n",
       "user_profile_point_program_id                 430207\n",
       "affiliate_program_id                          458545\n",
       "commission_percentage                              0\n",
       "location_service_type_id                          28\n",
       "booking_user_agent                             29785\n",
       "booking_application                             6681\n",
       "ignore_availability_requirements                  10\n",
       "fuel_level                                    194719\n",
       "rebook_of_id                                  436855\n",
       "rebooked_by_id                                438346\n",
       "reservation_frequency                          74028\n",
       "car_scanned_at                                200814\n",
       "disqualified_promo_code_id                    461493\n",
       "consolation_promo_code_id                     462528\n",
       "utm_source                                    410054\n",
       "utm_medium                                    410113\n",
       "utm_campaign                                  427757\n",
       "utm_term                                      447501\n",
       "utm_content                                   451663\n",
       "publisher_id                                  442365\n",
       "cancelled_at                                  315510\n",
       "local_rental                                       0\n",
       "booked_by_id                                  427238\n",
       "awards_referral_bonus                              0\n",
       "extole_conversion_id                          440880\n",
       "potential_local_rental                        394661\n",
       "claimed_at                                    454916\n",
       "customer_modifiable                                0\n",
       "credit_card_id                                311991\n",
       "dtype: int64"
      ]
     },
     "execution_count": 5,
     "metadata": {},
     "output_type": "execute_result"
    }
   ],
   "source": [
    "np.sum(df.isnull())"
   ]
  },
  {
   "cell_type": "markdown",
   "metadata": {},
   "source": [
    "## Feature engineering"
   ]
  },
  {
   "cell_type": "markdown",
   "metadata": {},
   "source": [
    "#### Convert datetime columns"
   ]
  },
  {
   "cell_type": "code",
   "execution_count": 6,
   "metadata": {
    "collapsed": true
   },
   "outputs": [],
   "source": [
    "def get_datetime(series):\n",
    "    return pd.to_datetime('1899-12-30') + pd.to_timedelta(series, 'D')\n",
    "\n",
    "df[\"pickup\"] = get_datetime(df[\"pickup\"])\n",
    "df[\"dropoff\"] = get_datetime(df[\"dropoff\"])\n",
    "df[\"created_at\"] = get_datetime(df[\"created_at\"])\n",
    "df[\"updated_at\"] = get_datetime(df[\"updated_at\"])"
   ]
  },
  {
   "cell_type": "code",
   "execution_count": 7,
   "metadata": {},
   "outputs": [
    {
     "name": "stdout",
     "output_type": "stream",
     "text": [
      "2012-12-26 19:31:35.904000\n",
      "2017-12-14 19:02:15.935999999\n"
     ]
    }
   ],
   "source": [
    "print(df[\"created_at\"].min())\n",
    "print(df[\"created_at\"].max())"
   ]
  },
  {
   "cell_type": "code",
   "execution_count": 8,
   "metadata": {},
   "outputs": [
    {
     "name": "stdout",
     "output_type": "stream",
     "text": [
      "False\n",
      "True\n"
     ]
    }
   ],
   "source": [
    "print(np.any(df[\"dropoff\"] < df[\"pickup\"]))\n",
    "print(np.any(df[\"updated_at\"] < df[\"created_at\"]))"
   ]
  },
  {
   "cell_type": "code",
   "execution_count": 9,
   "metadata": {},
   "outputs": [
    {
     "data": {
      "text/html": [
       "<div>\n",
       "<style>\n",
       "    .dataframe thead tr:only-child th {\n",
       "        text-align: right;\n",
       "    }\n",
       "\n",
       "    .dataframe thead th {\n",
       "        text-align: left;\n",
       "    }\n",
       "\n",
       "    .dataframe tbody tr th {\n",
       "        vertical-align: top;\n",
       "    }\n",
       "</style>\n",
       "<table border=\"1\" class=\"dataframe\">\n",
       "  <thead>\n",
       "    <tr style=\"text-align: right;\">\n",
       "      <th></th>\n",
       "      <th>id</th>\n",
       "      <th>pickup</th>\n",
       "      <th>dropoff</th>\n",
       "      <th>user_id</th>\n",
       "      <th>status</th>\n",
       "      <th>confirmation_token</th>\n",
       "      <th>created_at</th>\n",
       "      <th>updated_at</th>\n",
       "      <th>booked_price</th>\n",
       "      <th>current_state</th>\n",
       "      <th>...</th>\n",
       "      <th>publisher_id</th>\n",
       "      <th>cancelled_at</th>\n",
       "      <th>local_rental</th>\n",
       "      <th>booked_by_id</th>\n",
       "      <th>awards_referral_bonus</th>\n",
       "      <th>extole_conversion_id</th>\n",
       "      <th>potential_local_rental</th>\n",
       "      <th>claimed_at</th>\n",
       "      <th>customer_modifiable</th>\n",
       "      <th>credit_card_id</th>\n",
       "    </tr>\n",
       "  </thead>\n",
       "  <tbody>\n",
       "    <tr>\n",
       "      <th>322350</th>\n",
       "      <td>331435</td>\n",
       "      <td>2017-01-12 01:59:59.712</td>\n",
       "      <td>2017-01-14 16:30:00.000</td>\n",
       "      <td>354184.00</td>\n",
       "      <td>nan</td>\n",
       "      <td>24653AAB27</td>\n",
       "      <td>2017-01-02 00:22:44.255999999</td>\n",
       "      <td>2017-01-02 00:22:32.160</td>\n",
       "      <td>nan</td>\n",
       "      <td>cancelled</td>\n",
       "      <td>...</td>\n",
       "      <td>NaN</td>\n",
       "      <td>42737.02</td>\n",
       "      <td>0</td>\n",
       "      <td>nan</td>\n",
       "      <td>0</td>\n",
       "      <td>nan</td>\n",
       "      <td>nan</td>\n",
       "      <td>nan</td>\n",
       "      <td>1</td>\n",
       "      <td>nan</td>\n",
       "    </tr>\n",
       "    <tr>\n",
       "      <th>323180</th>\n",
       "      <td>332355</td>\n",
       "      <td>2017-01-10 13:30:00.000</td>\n",
       "      <td>2017-01-13 01:00:00.288</td>\n",
       "      <td>353178.00</td>\n",
       "      <td>nan</td>\n",
       "      <td>E053FF8619</td>\n",
       "      <td>2017-01-04 15:38:12.192000000</td>\n",
       "      <td>2017-01-04 15:36:14.688</td>\n",
       "      <td>nan</td>\n",
       "      <td>cancelled</td>\n",
       "      <td>...</td>\n",
       "      <td>NaN</td>\n",
       "      <td>42739.65</td>\n",
       "      <td>0</td>\n",
       "      <td>nan</td>\n",
       "      <td>0</td>\n",
       "      <td>nan</td>\n",
       "      <td>nan</td>\n",
       "      <td>nan</td>\n",
       "      <td>1</td>\n",
       "      <td>nan</td>\n",
       "    </tr>\n",
       "    <tr>\n",
       "      <th>323183</th>\n",
       "      <td>332362</td>\n",
       "      <td>2017-01-04 16:59:59.712</td>\n",
       "      <td>2017-01-06 16:59:59.712</td>\n",
       "      <td>354324.00</td>\n",
       "      <td>nan</td>\n",
       "      <td>7461DD4A29</td>\n",
       "      <td>2017-01-04 15:44:28.032000000</td>\n",
       "      <td>2017-01-04 15:43:18.912</td>\n",
       "      <td>nan</td>\n",
       "      <td>cancelled</td>\n",
       "      <td>...</td>\n",
       "      <td>NaN</td>\n",
       "      <td>42739.66</td>\n",
       "      <td>0</td>\n",
       "      <td>nan</td>\n",
       "      <td>0</td>\n",
       "      <td>nan</td>\n",
       "      <td>nan</td>\n",
       "      <td>nan</td>\n",
       "      <td>1</td>\n",
       "      <td>nan</td>\n",
       "    </tr>\n",
       "    <tr>\n",
       "      <th>323554</th>\n",
       "      <td>332767</td>\n",
       "      <td>2017-01-06 19:00:00.288</td>\n",
       "      <td>2017-01-08 19:00:00.288</td>\n",
       "      <td>355171.00</td>\n",
       "      <td>nan</td>\n",
       "      <td>D6813D84F2</td>\n",
       "      <td>2017-01-05 06:06:28.800000000</td>\n",
       "      <td>2017-01-05 06:04:53.760</td>\n",
       "      <td>nan</td>\n",
       "      <td>cancelled</td>\n",
       "      <td>...</td>\n",
       "      <td>NaN</td>\n",
       "      <td>42740.25</td>\n",
       "      <td>0</td>\n",
       "      <td>nan</td>\n",
       "      <td>0</td>\n",
       "      <td>nan</td>\n",
       "      <td>1.00</td>\n",
       "      <td>nan</td>\n",
       "      <td>1</td>\n",
       "      <td>nan</td>\n",
       "    </tr>\n",
       "    <tr>\n",
       "      <th>323562</th>\n",
       "      <td>332775</td>\n",
       "      <td>2017-01-05 19:00:00.288</td>\n",
       "      <td>2017-01-08 19:00:00.288</td>\n",
       "      <td>293501.00</td>\n",
       "      <td>nan</td>\n",
       "      <td>CDDC40C1FE</td>\n",
       "      <td>2017-01-05 07:04:52.320000000</td>\n",
       "      <td>2017-01-05 07:02:39.264</td>\n",
       "      <td>nan</td>\n",
       "      <td>cancelled</td>\n",
       "      <td>...</td>\n",
       "      <td>NaN</td>\n",
       "      <td>42740.29</td>\n",
       "      <td>0</td>\n",
       "      <td>nan</td>\n",
       "      <td>0</td>\n",
       "      <td>nan</td>\n",
       "      <td>nan</td>\n",
       "      <td>nan</td>\n",
       "      <td>1</td>\n",
       "      <td>nan</td>\n",
       "    </tr>\n",
       "  </tbody>\n",
       "</table>\n",
       "<p>5 rows × 52 columns</p>\n",
       "</div>"
      ],
      "text/plain": [
       "            id                  pickup                 dropoff   user_id  \\\n",
       "322350  331435 2017-01-12 01:59:59.712 2017-01-14 16:30:00.000 354184.00   \n",
       "323180  332355 2017-01-10 13:30:00.000 2017-01-13 01:00:00.288 353178.00   \n",
       "323183  332362 2017-01-04 16:59:59.712 2017-01-06 16:59:59.712 354324.00   \n",
       "323554  332767 2017-01-06 19:00:00.288 2017-01-08 19:00:00.288 355171.00   \n",
       "323562  332775 2017-01-05 19:00:00.288 2017-01-08 19:00:00.288 293501.00   \n",
       "\n",
       "        status confirmation_token                    created_at  \\\n",
       "322350     nan         24653AAB27 2017-01-02 00:22:44.255999999   \n",
       "323180     nan         E053FF8619 2017-01-04 15:38:12.192000000   \n",
       "323183     nan         7461DD4A29 2017-01-04 15:44:28.032000000   \n",
       "323554     nan         D6813D84F2 2017-01-05 06:06:28.800000000   \n",
       "323562     nan         CDDC40C1FE 2017-01-05 07:04:52.320000000   \n",
       "\n",
       "                    updated_at  booked_price current_state       ...        \\\n",
       "322350 2017-01-02 00:22:32.160           nan     cancelled       ...         \n",
       "323180 2017-01-04 15:36:14.688           nan     cancelled       ...         \n",
       "323183 2017-01-04 15:43:18.912           nan     cancelled       ...         \n",
       "323554 2017-01-05 06:04:53.760           nan     cancelled       ...         \n",
       "323562 2017-01-05 07:02:39.264           nan     cancelled       ...         \n",
       "\n",
       "        publisher_id  cancelled_at  local_rental  booked_by_id  \\\n",
       "322350           NaN      42737.02             0           nan   \n",
       "323180           NaN      42739.65             0           nan   \n",
       "323183           NaN      42739.66             0           nan   \n",
       "323554           NaN      42740.25             0           nan   \n",
       "323562           NaN      42740.29             0           nan   \n",
       "\n",
       "        awards_referral_bonus  extole_conversion_id  potential_local_rental  \\\n",
       "322350                      0                   nan                     nan   \n",
       "323180                      0                   nan                     nan   \n",
       "323183                      0                   nan                     nan   \n",
       "323554                      0                   nan                    1.00   \n",
       "323562                      0                   nan                     nan   \n",
       "\n",
       "        claimed_at  customer_modifiable  credit_card_id  \n",
       "322350         nan                    1             nan  \n",
       "323180         nan                    1             nan  \n",
       "323183         nan                    1             nan  \n",
       "323554         nan                    1             nan  \n",
       "323562         nan                    1             nan  \n",
       "\n",
       "[5 rows x 52 columns]"
      ]
     },
     "execution_count": 9,
     "metadata": {},
     "output_type": "execute_result"
    }
   ],
   "source": [
    "df[df[\"updated_at\"] < df[\"created_at\"]].head()"
   ]
  },
  {
   "cell_type": "markdown",
   "metadata": {},
   "source": [
    "### Create time to pickup and trip duration features in days "
   ]
  },
  {
   "cell_type": "code",
   "execution_count": 10,
   "metadata": {
    "collapsed": true
   },
   "outputs": [],
   "source": [
    "df[\"time_to_pickup\"] = (df[\"pickup\"] - df[\"created_at\"]).dt.total_seconds() / 86400\n",
    "df[\"trip_duration\"] = (df[\"dropoff\"] - df[\"pickup\"]).dt.total_seconds() / 86400"
   ]
  },
  {
   "cell_type": "code",
   "execution_count": 11,
   "metadata": {
    "collapsed": true
   },
   "outputs": [],
   "source": [
    "df[\"used_promo\"] = (df[\"promo_code_id\"].notnull()).astype(int)\n",
    "df[\"same_location\"] = (df[\"pickup_location_id\"] == df[\"dropoff_location_id\"]).astype(int)"
   ]
  },
  {
   "cell_type": "code",
   "execution_count": 12,
   "metadata": {},
   "outputs": [
    {
     "data": {
      "text/plain": [
       "0.99999351441097883"
      ]
     },
     "execution_count": 12,
     "metadata": {},
     "output_type": "execute_result"
    }
   ],
   "source": [
    "df[\"same_location\"].sum() / df[\"same_location\"].count()"
   ]
  },
  {
   "cell_type": "code",
   "execution_count": 13,
   "metadata": {},
   "outputs": [
    {
     "data": {
      "text/plain": [
       "finished                      268088\n",
       "cancelled                     162600\n",
       "no_showed                      23013\n",
       "booked                          6172\n",
       "payment_declined_cancelled      2065\n",
       "started                          621\n",
       "pending_agreement                  5\n",
       "Name: current_state, dtype: int64"
      ]
     },
     "execution_count": 13,
     "metadata": {},
     "output_type": "execute_result"
    }
   ],
   "source": [
    "df[\"current_state\"].value_counts()"
   ]
  },
  {
   "cell_type": "markdown",
   "metadata": {},
   "source": [
    "### Make a separate booked data frame for dashboard"
   ]
  },
  {
   "cell_type": "code",
   "execution_count": 14,
   "metadata": {
    "collapsed": true
   },
   "outputs": [],
   "source": [
    "mask = df[\"pickup\"] > df[\"created_at\"].max()\n",
    "df_booked = df[df[\"current_state\"] == \"booked\"]"
   ]
  },
  {
   "cell_type": "code",
   "execution_count": 15,
   "metadata": {},
   "outputs": [
    {
     "data": {
      "text/html": [
       "<div>\n",
       "<style>\n",
       "    .dataframe thead tr:only-child th {\n",
       "        text-align: right;\n",
       "    }\n",
       "\n",
       "    .dataframe thead th {\n",
       "        text-align: left;\n",
       "    }\n",
       "\n",
       "    .dataframe tbody tr th {\n",
       "        vertical-align: top;\n",
       "    }\n",
       "</style>\n",
       "<table border=\"1\" class=\"dataframe\">\n",
       "  <thead>\n",
       "    <tr style=\"text-align: right;\">\n",
       "      <th></th>\n",
       "      <th>id</th>\n",
       "      <th>pickup</th>\n",
       "      <th>dropoff</th>\n",
       "      <th>user_id</th>\n",
       "      <th>status</th>\n",
       "      <th>confirmation_token</th>\n",
       "      <th>created_at</th>\n",
       "      <th>updated_at</th>\n",
       "      <th>booked_price</th>\n",
       "      <th>current_state</th>\n",
       "      <th>...</th>\n",
       "      <th>awards_referral_bonus</th>\n",
       "      <th>extole_conversion_id</th>\n",
       "      <th>potential_local_rental</th>\n",
       "      <th>claimed_at</th>\n",
       "      <th>customer_modifiable</th>\n",
       "      <th>credit_card_id</th>\n",
       "      <th>time_to_pickup</th>\n",
       "      <th>trip_duration</th>\n",
       "      <th>used_promo</th>\n",
       "      <th>same_location</th>\n",
       "    </tr>\n",
       "  </thead>\n",
       "  <tbody>\n",
       "    <tr>\n",
       "      <th>347533</th>\n",
       "      <td>358808</td>\n",
       "      <td>2017-12-28 16:59:59.712</td>\n",
       "      <td>2018-01-02 17:30:00.288</td>\n",
       "      <td>374628.00</td>\n",
       "      <td>nan</td>\n",
       "      <td>28E9FED670</td>\n",
       "      <td>2017-03-07 07:32:45.024</td>\n",
       "      <td>2017-08-16 21:19:28.128</td>\n",
       "      <td>nan</td>\n",
       "      <td>booked</td>\n",
       "      <td>...</td>\n",
       "      <td>0</td>\n",
       "      <td>nan</td>\n",
       "      <td>nan</td>\n",
       "      <td>nan</td>\n",
       "      <td>1</td>\n",
       "      <td>nan</td>\n",
       "      <td>296.39</td>\n",
       "      <td>5.02</td>\n",
       "      <td>1</td>\n",
       "      <td>1</td>\n",
       "    </tr>\n",
       "    <tr>\n",
       "      <th>358862</th>\n",
       "      <td>370138</td>\n",
       "      <td>2018-04-20 18:29:59.712</td>\n",
       "      <td>2018-04-23 19:00:00.288</td>\n",
       "      <td>201849.00</td>\n",
       "      <td>nan</td>\n",
       "      <td>B003C40F47</td>\n",
       "      <td>2017-04-05 09:27:33.696</td>\n",
       "      <td>2017-11-02 14:48:40.896</td>\n",
       "      <td>nan</td>\n",
       "      <td>booked</td>\n",
       "      <td>...</td>\n",
       "      <td>0</td>\n",
       "      <td>6405450000000000000.00</td>\n",
       "      <td>nan</td>\n",
       "      <td>nan</td>\n",
       "      <td>1</td>\n",
       "      <td>nan</td>\n",
       "      <td>380.38</td>\n",
       "      <td>3.02</td>\n",
       "      <td>1</td>\n",
       "      <td>1</td>\n",
       "    </tr>\n",
       "    <tr>\n",
       "      <th>391915</th>\n",
       "      <td>403193</td>\n",
       "      <td>2017-12-17 22:00:00.288</td>\n",
       "      <td>2017-12-19 01:00:00.288</td>\n",
       "      <td>251806.00</td>\n",
       "      <td>nan</td>\n",
       "      <td>EF7EBFC9DC</td>\n",
       "      <td>2017-06-27 02:46:20.928</td>\n",
       "      <td>2017-10-08 20:44:19.104</td>\n",
       "      <td>nan</td>\n",
       "      <td>booked</td>\n",
       "      <td>...</td>\n",
       "      <td>0</td>\n",
       "      <td>nan</td>\n",
       "      <td>nan</td>\n",
       "      <td>nan</td>\n",
       "      <td>1</td>\n",
       "      <td>nan</td>\n",
       "      <td>173.80</td>\n",
       "      <td>1.12</td>\n",
       "      <td>0</td>\n",
       "      <td>1</td>\n",
       "    </tr>\n",
       "    <tr>\n",
       "      <th>392235</th>\n",
       "      <td>403513</td>\n",
       "      <td>2017-12-15 16:59:59.712</td>\n",
       "      <td>2017-12-19 16:59:59.712</td>\n",
       "      <td>413056.00</td>\n",
       "      <td>nan</td>\n",
       "      <td>0115DEE903</td>\n",
       "      <td>2017-06-27 21:47:52.800</td>\n",
       "      <td>2017-06-27 22:00:02.880</td>\n",
       "      <td>nan</td>\n",
       "      <td>booked</td>\n",
       "      <td>...</td>\n",
       "      <td>0</td>\n",
       "      <td>nan</td>\n",
       "      <td>nan</td>\n",
       "      <td>nan</td>\n",
       "      <td>1</td>\n",
       "      <td>nan</td>\n",
       "      <td>170.80</td>\n",
       "      <td>4.00</td>\n",
       "      <td>0</td>\n",
       "      <td>1</td>\n",
       "    </tr>\n",
       "    <tr>\n",
       "      <th>393171</th>\n",
       "      <td>404449</td>\n",
       "      <td>2017-12-16 15:29:59.712</td>\n",
       "      <td>2017-12-22 21:00:00.000</td>\n",
       "      <td>62675.00</td>\n",
       "      <td>nan</td>\n",
       "      <td>78CAF730D6</td>\n",
       "      <td>2017-06-29 22:38:22.848</td>\n",
       "      <td>2017-12-11 15:09:14.688</td>\n",
       "      <td>nan</td>\n",
       "      <td>booked</td>\n",
       "      <td>...</td>\n",
       "      <td>0</td>\n",
       "      <td>nan</td>\n",
       "      <td>1.00</td>\n",
       "      <td>nan</td>\n",
       "      <td>1</td>\n",
       "      <td>nan</td>\n",
       "      <td>169.70</td>\n",
       "      <td>6.23</td>\n",
       "      <td>0</td>\n",
       "      <td>1</td>\n",
       "    </tr>\n",
       "  </tbody>\n",
       "</table>\n",
       "<p>5 rows × 56 columns</p>\n",
       "</div>"
      ],
      "text/plain": [
       "            id                  pickup                 dropoff   user_id  \\\n",
       "347533  358808 2017-12-28 16:59:59.712 2018-01-02 17:30:00.288 374628.00   \n",
       "358862  370138 2018-04-20 18:29:59.712 2018-04-23 19:00:00.288 201849.00   \n",
       "391915  403193 2017-12-17 22:00:00.288 2017-12-19 01:00:00.288 251806.00   \n",
       "392235  403513 2017-12-15 16:59:59.712 2017-12-19 16:59:59.712 413056.00   \n",
       "393171  404449 2017-12-16 15:29:59.712 2017-12-22 21:00:00.000  62675.00   \n",
       "\n",
       "        status confirmation_token              created_at  \\\n",
       "347533     nan         28E9FED670 2017-03-07 07:32:45.024   \n",
       "358862     nan         B003C40F47 2017-04-05 09:27:33.696   \n",
       "391915     nan         EF7EBFC9DC 2017-06-27 02:46:20.928   \n",
       "392235     nan         0115DEE903 2017-06-27 21:47:52.800   \n",
       "393171     nan         78CAF730D6 2017-06-29 22:38:22.848   \n",
       "\n",
       "                    updated_at  booked_price current_state      ...        \\\n",
       "347533 2017-08-16 21:19:28.128           nan        booked      ...         \n",
       "358862 2017-11-02 14:48:40.896           nan        booked      ...         \n",
       "391915 2017-10-08 20:44:19.104           nan        booked      ...         \n",
       "392235 2017-06-27 22:00:02.880           nan        booked      ...         \n",
       "393171 2017-12-11 15:09:14.688           nan        booked      ...         \n",
       "\n",
       "        awards_referral_bonus   extole_conversion_id  potential_local_rental  \\\n",
       "347533                      0                    nan                     nan   \n",
       "358862                      0 6405450000000000000.00                     nan   \n",
       "391915                      0                    nan                     nan   \n",
       "392235                      0                    nan                     nan   \n",
       "393171                      0                    nan                    1.00   \n",
       "\n",
       "        claimed_at  customer_modifiable  credit_card_id  time_to_pickup  \\\n",
       "347533         nan                    1             nan          296.39   \n",
       "358862         nan                    1             nan          380.38   \n",
       "391915         nan                    1             nan          173.80   \n",
       "392235         nan                    1             nan          170.80   \n",
       "393171         nan                    1             nan          169.70   \n",
       "\n",
       "        trip_duration  used_promo  same_location  \n",
       "347533           5.02           1              1  \n",
       "358862           3.02           1              1  \n",
       "391915           1.12           0              1  \n",
       "392235           4.00           0              1  \n",
       "393171           6.23           0              1  \n",
       "\n",
       "[5 rows x 56 columns]"
      ]
     },
     "execution_count": 15,
     "metadata": {},
     "output_type": "execute_result"
    }
   ],
   "source": [
    "df_booked.head()"
   ]
  },
  {
   "cell_type": "code",
   "execution_count": 16,
   "metadata": {},
   "outputs": [
    {
     "data": {
      "text/plain": [
       "1534"
      ]
     },
     "execution_count": 16,
     "metadata": {},
     "output_type": "execute_result"
    }
   ],
   "source": [
    "np.sum((df_booked[\"pickup\"].dt.month == 1) & (df_booked[\"pickup\"].dt.year == 2018))"
   ]
  },
  {
   "cell_type": "markdown",
   "metadata": {},
   "source": [
    "1,500 reservations in the following month (01/18)"
   ]
  },
  {
   "cell_type": "markdown",
   "metadata": {},
   "source": [
    "### Check if no shows have same behavior as users who cancel"
   ]
  },
  {
   "cell_type": "code",
   "execution_count": 17,
   "metadata": {},
   "outputs": [],
   "source": [
    "df = df[df[\"current_state\"].isin([\"finished\", \"cancelled\", \"no_showed\"])]\n",
    "df[\"current_state\"] = df[\"current_state\"].map({\"finished\": 0, \"cancelled\": 1, \"no_showed\": 2})"
   ]
  },
  {
   "cell_type": "code",
   "execution_count": 18,
   "metadata": {},
   "outputs": [
    {
     "data": {
      "text/html": [
       "<div>\n",
       "<style>\n",
       "    .dataframe thead tr:only-child th {\n",
       "        text-align: right;\n",
       "    }\n",
       "\n",
       "    .dataframe thead th {\n",
       "        text-align: left;\n",
       "    }\n",
       "\n",
       "    .dataframe tbody tr th {\n",
       "        vertical-align: top;\n",
       "    }\n",
       "</style>\n",
       "<table border=\"1\" class=\"dataframe\">\n",
       "  <thead>\n",
       "    <tr style=\"text-align: right;\">\n",
       "      <th>current_state</th>\n",
       "      <th>0</th>\n",
       "      <th>1</th>\n",
       "      <th>2</th>\n",
       "    </tr>\n",
       "  </thead>\n",
       "  <tbody>\n",
       "    <tr>\n",
       "      <th>id</th>\n",
       "      <td>243490.29</td>\n",
       "      <td>216578.76</td>\n",
       "      <td>238007.63</td>\n",
       "    </tr>\n",
       "    <tr>\n",
       "      <th>user_id</th>\n",
       "      <td>195434.73</td>\n",
       "      <td>189254.30</td>\n",
       "      <td>225236.14</td>\n",
       "    </tr>\n",
       "    <tr>\n",
       "      <th>status</th>\n",
       "      <td>nan</td>\n",
       "      <td>nan</td>\n",
       "      <td>nan</td>\n",
       "    </tr>\n",
       "    <tr>\n",
       "      <th>booked_price</th>\n",
       "      <td>217.03</td>\n",
       "      <td>232.09</td>\n",
       "      <td>213.77</td>\n",
       "    </tr>\n",
       "    <tr>\n",
       "      <th>booked_daily_rate</th>\n",
       "      <td>140.78</td>\n",
       "      <td>140.54</td>\n",
       "      <td>139.14</td>\n",
       "    </tr>\n",
       "    <tr>\n",
       "      <th>confirmed</th>\n",
       "      <td>0.00</td>\n",
       "      <td>0.00</td>\n",
       "      <td>0.00</td>\n",
       "    </tr>\n",
       "    <tr>\n",
       "      <th>reservation_type_id</th>\n",
       "      <td>2.83</td>\n",
       "      <td>2.46</td>\n",
       "      <td>2.74</td>\n",
       "    </tr>\n",
       "    <tr>\n",
       "      <th>pickup_location_id</th>\n",
       "      <td>7.91</td>\n",
       "      <td>8.54</td>\n",
       "      <td>8.11</td>\n",
       "    </tr>\n",
       "    <tr>\n",
       "      <th>dropoff_location_id</th>\n",
       "      <td>7.91</td>\n",
       "      <td>8.54</td>\n",
       "      <td>8.11</td>\n",
       "    </tr>\n",
       "    <tr>\n",
       "      <th>rental_agreement_id</th>\n",
       "      <td>22.56</td>\n",
       "      <td>12.83</td>\n",
       "      <td>14.00</td>\n",
       "    </tr>\n",
       "    <tr>\n",
       "      <th>promo_code_id</th>\n",
       "      <td>345002.25</td>\n",
       "      <td>287639.74</td>\n",
       "      <td>339265.13</td>\n",
       "    </tr>\n",
       "    <tr>\n",
       "      <th>actual_pickup</th>\n",
       "      <td>42493.31</td>\n",
       "      <td>41561.82</td>\n",
       "      <td>41903.07</td>\n",
       "    </tr>\n",
       "    <tr>\n",
       "      <th>actual_dropoff</th>\n",
       "      <td>42495.98</td>\n",
       "      <td>41509.73</td>\n",
       "      <td>41695.08</td>\n",
       "    </tr>\n",
       "    <tr>\n",
       "      <th>one_day_reminder_sent</th>\n",
       "      <td>0.02</td>\n",
       "      <td>0.01</td>\n",
       "      <td>0.07</td>\n",
       "    </tr>\n",
       "    <tr>\n",
       "      <th>two_day_reminder_profile_incomplete_sent</th>\n",
       "      <td>0.02</td>\n",
       "      <td>0.01</td>\n",
       "      <td>0.06</td>\n",
       "    </tr>\n",
       "    <tr>\n",
       "      <th>three_day_reminder_profile_incomplete_sent</th>\n",
       "      <td>0.02</td>\n",
       "      <td>0.01</td>\n",
       "      <td>0.05</td>\n",
       "    </tr>\n",
       "    <tr>\n",
       "      <th>created_as_guest</th>\n",
       "      <td>0.15</td>\n",
       "      <td>0.30</td>\n",
       "      <td>0.40</td>\n",
       "    </tr>\n",
       "    <tr>\n",
       "      <th>user_profile_point_program_id</th>\n",
       "      <td>4897.46</td>\n",
       "      <td>4398.24</td>\n",
       "      <td>4386.03</td>\n",
       "    </tr>\n",
       "    <tr>\n",
       "      <th>affiliate_program_id</th>\n",
       "      <td>71972227.45</td>\n",
       "      <td>38652372.20</td>\n",
       "      <td>23446784.73</td>\n",
       "    </tr>\n",
       "    <tr>\n",
       "      <th>commission_percentage</th>\n",
       "      <td>0.00</td>\n",
       "      <td>0.00</td>\n",
       "      <td>0.00</td>\n",
       "    </tr>\n",
       "    <tr>\n",
       "      <th>location_service_type_id</th>\n",
       "      <td>9.63</td>\n",
       "      <td>10.26</td>\n",
       "      <td>9.85</td>\n",
       "    </tr>\n",
       "    <tr>\n",
       "      <th>ignore_availability_requirements</th>\n",
       "      <td>0.04</td>\n",
       "      <td>0.05</td>\n",
       "      <td>0.14</td>\n",
       "    </tr>\n",
       "    <tr>\n",
       "      <th>fuel_level</th>\n",
       "      <td>77.34</td>\n",
       "      <td>80.34</td>\n",
       "      <td>100.00</td>\n",
       "    </tr>\n",
       "    <tr>\n",
       "      <th>rebook_of_id</th>\n",
       "      <td>189643.47</td>\n",
       "      <td>193854.98</td>\n",
       "      <td>214556.97</td>\n",
       "    </tr>\n",
       "    <tr>\n",
       "      <th>rebooked_by_id</th>\n",
       "      <td>nan</td>\n",
       "      <td>199285.49</td>\n",
       "      <td>nan</td>\n",
       "    </tr>\n",
       "    <tr>\n",
       "      <th>car_scanned_at</th>\n",
       "      <td>42525.41</td>\n",
       "      <td>42394.37</td>\n",
       "      <td>41903.07</td>\n",
       "    </tr>\n",
       "    <tr>\n",
       "      <th>disqualified_promo_code_id</th>\n",
       "      <td>239894.91</td>\n",
       "      <td>297424.00</td>\n",
       "      <td>nan</td>\n",
       "    </tr>\n",
       "    <tr>\n",
       "      <th>consolation_promo_code_id</th>\n",
       "      <td>567944.78</td>\n",
       "      <td>nan</td>\n",
       "      <td>nan</td>\n",
       "    </tr>\n",
       "    <tr>\n",
       "      <th>cancelled_at</th>\n",
       "      <td>42022.91</td>\n",
       "      <td>42485.77</td>\n",
       "      <td>41897.27</td>\n",
       "    </tr>\n",
       "    <tr>\n",
       "      <th>local_rental</th>\n",
       "      <td>0.04</td>\n",
       "      <td>0.00</td>\n",
       "      <td>0.01</td>\n",
       "    </tr>\n",
       "    <tr>\n",
       "      <th>booked_by_id</th>\n",
       "      <td>354264.57</td>\n",
       "      <td>360436.50</td>\n",
       "      <td>344487.92</td>\n",
       "    </tr>\n",
       "    <tr>\n",
       "      <th>awards_referral_bonus</th>\n",
       "      <td>0.05</td>\n",
       "      <td>0.00</td>\n",
       "      <td>0.00</td>\n",
       "    </tr>\n",
       "    <tr>\n",
       "      <th>extole_conversion_id</th>\n",
       "      <td>6262325848601744384.00</td>\n",
       "      <td>6238685876070838272.00</td>\n",
       "      <td>6248793094339613696.00</td>\n",
       "    </tr>\n",
       "    <tr>\n",
       "      <th>potential_local_rental</th>\n",
       "      <td>0.40</td>\n",
       "      <td>0.54</td>\n",
       "      <td>0.69</td>\n",
       "    </tr>\n",
       "    <tr>\n",
       "      <th>claimed_at</th>\n",
       "      <td>42892.00</td>\n",
       "      <td>42884.32</td>\n",
       "      <td>42897.50</td>\n",
       "    </tr>\n",
       "    <tr>\n",
       "      <th>customer_modifiable</th>\n",
       "      <td>1.00</td>\n",
       "      <td>1.00</td>\n",
       "      <td>1.00</td>\n",
       "    </tr>\n",
       "    <tr>\n",
       "      <th>credit_card_id</th>\n",
       "      <td>148980.86</td>\n",
       "      <td>136393.49</td>\n",
       "      <td>193182.00</td>\n",
       "    </tr>\n",
       "    <tr>\n",
       "      <th>time_to_pickup</th>\n",
       "      <td>15.53</td>\n",
       "      <td>23.31</td>\n",
       "      <td>13.79</td>\n",
       "    </tr>\n",
       "    <tr>\n",
       "      <th>trip_duration</th>\n",
       "      <td>2.77</td>\n",
       "      <td>2.99</td>\n",
       "      <td>2.99</td>\n",
       "    </tr>\n",
       "    <tr>\n",
       "      <th>used_promo</th>\n",
       "      <td>0.54</td>\n",
       "      <td>0.25</td>\n",
       "      <td>0.30</td>\n",
       "    </tr>\n",
       "    <tr>\n",
       "      <th>same_location</th>\n",
       "      <td>1.00</td>\n",
       "      <td>1.00</td>\n",
       "      <td>1.00</td>\n",
       "    </tr>\n",
       "  </tbody>\n",
       "</table>\n",
       "</div>"
      ],
      "text/plain": [
       "current_state                                                   0  \\\n",
       "id                                                      243490.29   \n",
       "user_id                                                 195434.73   \n",
       "status                                                        nan   \n",
       "booked_price                                               217.03   \n",
       "booked_daily_rate                                          140.78   \n",
       "confirmed                                                    0.00   \n",
       "reservation_type_id                                          2.83   \n",
       "pickup_location_id                                           7.91   \n",
       "dropoff_location_id                                          7.91   \n",
       "rental_agreement_id                                         22.56   \n",
       "promo_code_id                                           345002.25   \n",
       "actual_pickup                                            42493.31   \n",
       "actual_dropoff                                           42495.98   \n",
       "one_day_reminder_sent                                        0.02   \n",
       "two_day_reminder_profile_incomplete_sent                     0.02   \n",
       "three_day_reminder_profile_incomplete_sent                   0.02   \n",
       "created_as_guest                                             0.15   \n",
       "user_profile_point_program_id                             4897.46   \n",
       "affiliate_program_id                                  71972227.45   \n",
       "commission_percentage                                        0.00   \n",
       "location_service_type_id                                     9.63   \n",
       "ignore_availability_requirements                             0.04   \n",
       "fuel_level                                                  77.34   \n",
       "rebook_of_id                                            189643.47   \n",
       "rebooked_by_id                                                nan   \n",
       "car_scanned_at                                           42525.41   \n",
       "disqualified_promo_code_id                              239894.91   \n",
       "consolation_promo_code_id                               567944.78   \n",
       "cancelled_at                                             42022.91   \n",
       "local_rental                                                 0.04   \n",
       "booked_by_id                                            354264.57   \n",
       "awards_referral_bonus                                        0.05   \n",
       "extole_conversion_id                       6262325848601744384.00   \n",
       "potential_local_rental                                       0.40   \n",
       "claimed_at                                               42892.00   \n",
       "customer_modifiable                                          1.00   \n",
       "credit_card_id                                          148980.86   \n",
       "time_to_pickup                                              15.53   \n",
       "trip_duration                                                2.77   \n",
       "used_promo                                                   0.54   \n",
       "same_location                                                1.00   \n",
       "\n",
       "current_state                                                   1  \\\n",
       "id                                                      216578.76   \n",
       "user_id                                                 189254.30   \n",
       "status                                                        nan   \n",
       "booked_price                                               232.09   \n",
       "booked_daily_rate                                          140.54   \n",
       "confirmed                                                    0.00   \n",
       "reservation_type_id                                          2.46   \n",
       "pickup_location_id                                           8.54   \n",
       "dropoff_location_id                                          8.54   \n",
       "rental_agreement_id                                         12.83   \n",
       "promo_code_id                                           287639.74   \n",
       "actual_pickup                                            41561.82   \n",
       "actual_dropoff                                           41509.73   \n",
       "one_day_reminder_sent                                        0.01   \n",
       "two_day_reminder_profile_incomplete_sent                     0.01   \n",
       "three_day_reminder_profile_incomplete_sent                   0.01   \n",
       "created_as_guest                                             0.30   \n",
       "user_profile_point_program_id                             4398.24   \n",
       "affiliate_program_id                                  38652372.20   \n",
       "commission_percentage                                        0.00   \n",
       "location_service_type_id                                    10.26   \n",
       "ignore_availability_requirements                             0.05   \n",
       "fuel_level                                                  80.34   \n",
       "rebook_of_id                                            193854.98   \n",
       "rebooked_by_id                                          199285.49   \n",
       "car_scanned_at                                           42394.37   \n",
       "disqualified_promo_code_id                              297424.00   \n",
       "consolation_promo_code_id                                     nan   \n",
       "cancelled_at                                             42485.77   \n",
       "local_rental                                                 0.00   \n",
       "booked_by_id                                            360436.50   \n",
       "awards_referral_bonus                                        0.00   \n",
       "extole_conversion_id                       6238685876070838272.00   \n",
       "potential_local_rental                                       0.54   \n",
       "claimed_at                                               42884.32   \n",
       "customer_modifiable                                          1.00   \n",
       "credit_card_id                                          136393.49   \n",
       "time_to_pickup                                              23.31   \n",
       "trip_duration                                                2.99   \n",
       "used_promo                                                   0.25   \n",
       "same_location                                                1.00   \n",
       "\n",
       "current_state                                                   2  \n",
       "id                                                      238007.63  \n",
       "user_id                                                 225236.14  \n",
       "status                                                        nan  \n",
       "booked_price                                               213.77  \n",
       "booked_daily_rate                                          139.14  \n",
       "confirmed                                                    0.00  \n",
       "reservation_type_id                                          2.74  \n",
       "pickup_location_id                                           8.11  \n",
       "dropoff_location_id                                          8.11  \n",
       "rental_agreement_id                                         14.00  \n",
       "promo_code_id                                           339265.13  \n",
       "actual_pickup                                            41903.07  \n",
       "actual_dropoff                                           41695.08  \n",
       "one_day_reminder_sent                                        0.07  \n",
       "two_day_reminder_profile_incomplete_sent                     0.06  \n",
       "three_day_reminder_profile_incomplete_sent                   0.05  \n",
       "created_as_guest                                             0.40  \n",
       "user_profile_point_program_id                             4386.03  \n",
       "affiliate_program_id                                  23446784.73  \n",
       "commission_percentage                                        0.00  \n",
       "location_service_type_id                                     9.85  \n",
       "ignore_availability_requirements                             0.14  \n",
       "fuel_level                                                 100.00  \n",
       "rebook_of_id                                            214556.97  \n",
       "rebooked_by_id                                                nan  \n",
       "car_scanned_at                                           41903.07  \n",
       "disqualified_promo_code_id                                    nan  \n",
       "consolation_promo_code_id                                     nan  \n",
       "cancelled_at                                             41897.27  \n",
       "local_rental                                                 0.01  \n",
       "booked_by_id                                            344487.92  \n",
       "awards_referral_bonus                                        0.00  \n",
       "extole_conversion_id                       6248793094339613696.00  \n",
       "potential_local_rental                                       0.69  \n",
       "claimed_at                                               42897.50  \n",
       "customer_modifiable                                          1.00  \n",
       "credit_card_id                                          193182.00  \n",
       "time_to_pickup                                              13.79  \n",
       "trip_duration                                                2.99  \n",
       "used_promo                                                   0.30  \n",
       "same_location                                                1.00  "
      ]
     },
     "execution_count": 18,
     "metadata": {},
     "output_type": "execute_result"
    }
   ],
   "source": [
    "df.groupby(\"current_state\").mean().T"
   ]
  },
  {
   "cell_type": "markdown",
   "metadata": {},
   "source": [
    "### No shows exhibit some characteristics of users who finish rides, so I'm going to drop them for now"
   ]
  },
  {
   "cell_type": "code",
   "execution_count": 19,
   "metadata": {
    "collapsed": true
   },
   "outputs": [],
   "source": [
    "df = df[df[\"current_state\"].isin([0, 1])]\n",
    "df.rename(columns={\"current_state\": \"cancelled\"}, inplace=True)"
   ]
  },
  {
   "cell_type": "markdown",
   "metadata": {},
   "source": [
    "#### Look at descriptive stats"
   ]
  },
  {
   "cell_type": "code",
   "execution_count": 20,
   "metadata": {
    "collapsed": true
   },
   "outputs": [],
   "source": [
    "# df.describe().T"
   ]
  },
  {
   "cell_type": "code",
   "execution_count": 21,
   "metadata": {
    "collapsed": true
   },
   "outputs": [],
   "source": [
    "# df.corr().T"
   ]
  },
  {
   "cell_type": "code",
   "execution_count": 22,
   "metadata": {},
   "outputs": [
    {
     "data": {
      "text/html": [
       "<div>\n",
       "<style>\n",
       "    .dataframe thead tr:only-child th {\n",
       "        text-align: right;\n",
       "    }\n",
       "\n",
       "    .dataframe thead th {\n",
       "        text-align: left;\n",
       "    }\n",
       "\n",
       "    .dataframe tbody tr th {\n",
       "        vertical-align: top;\n",
       "    }\n",
       "</style>\n",
       "<table border=\"1\" class=\"dataframe\">\n",
       "  <thead>\n",
       "    <tr style=\"text-align: right;\">\n",
       "      <th>cancelled</th>\n",
       "      <th>0</th>\n",
       "      <th>1</th>\n",
       "    </tr>\n",
       "  </thead>\n",
       "  <tbody>\n",
       "    <tr>\n",
       "      <th>id</th>\n",
       "      <td>243490.29</td>\n",
       "      <td>216578.76</td>\n",
       "    </tr>\n",
       "    <tr>\n",
       "      <th>user_id</th>\n",
       "      <td>195434.73</td>\n",
       "      <td>189254.30</td>\n",
       "    </tr>\n",
       "    <tr>\n",
       "      <th>status</th>\n",
       "      <td>nan</td>\n",
       "      <td>nan</td>\n",
       "    </tr>\n",
       "    <tr>\n",
       "      <th>booked_price</th>\n",
       "      <td>217.03</td>\n",
       "      <td>232.09</td>\n",
       "    </tr>\n",
       "    <tr>\n",
       "      <th>booked_daily_rate</th>\n",
       "      <td>140.78</td>\n",
       "      <td>140.54</td>\n",
       "    </tr>\n",
       "    <tr>\n",
       "      <th>confirmed</th>\n",
       "      <td>0.00</td>\n",
       "      <td>0.00</td>\n",
       "    </tr>\n",
       "    <tr>\n",
       "      <th>reservation_type_id</th>\n",
       "      <td>2.83</td>\n",
       "      <td>2.46</td>\n",
       "    </tr>\n",
       "    <tr>\n",
       "      <th>pickup_location_id</th>\n",
       "      <td>7.91</td>\n",
       "      <td>8.54</td>\n",
       "    </tr>\n",
       "    <tr>\n",
       "      <th>dropoff_location_id</th>\n",
       "      <td>7.91</td>\n",
       "      <td>8.54</td>\n",
       "    </tr>\n",
       "    <tr>\n",
       "      <th>rental_agreement_id</th>\n",
       "      <td>22.56</td>\n",
       "      <td>12.83</td>\n",
       "    </tr>\n",
       "    <tr>\n",
       "      <th>promo_code_id</th>\n",
       "      <td>345002.25</td>\n",
       "      <td>287639.74</td>\n",
       "    </tr>\n",
       "    <tr>\n",
       "      <th>actual_pickup</th>\n",
       "      <td>42493.31</td>\n",
       "      <td>41561.82</td>\n",
       "    </tr>\n",
       "    <tr>\n",
       "      <th>actual_dropoff</th>\n",
       "      <td>42495.98</td>\n",
       "      <td>41509.73</td>\n",
       "    </tr>\n",
       "    <tr>\n",
       "      <th>one_day_reminder_sent</th>\n",
       "      <td>0.02</td>\n",
       "      <td>0.01</td>\n",
       "    </tr>\n",
       "    <tr>\n",
       "      <th>two_day_reminder_profile_incomplete_sent</th>\n",
       "      <td>0.02</td>\n",
       "      <td>0.01</td>\n",
       "    </tr>\n",
       "    <tr>\n",
       "      <th>three_day_reminder_profile_incomplete_sent</th>\n",
       "      <td>0.02</td>\n",
       "      <td>0.01</td>\n",
       "    </tr>\n",
       "    <tr>\n",
       "      <th>created_as_guest</th>\n",
       "      <td>0.15</td>\n",
       "      <td>0.30</td>\n",
       "    </tr>\n",
       "    <tr>\n",
       "      <th>user_profile_point_program_id</th>\n",
       "      <td>4897.46</td>\n",
       "      <td>4398.24</td>\n",
       "    </tr>\n",
       "    <tr>\n",
       "      <th>affiliate_program_id</th>\n",
       "      <td>71972227.45</td>\n",
       "      <td>38652372.20</td>\n",
       "    </tr>\n",
       "    <tr>\n",
       "      <th>commission_percentage</th>\n",
       "      <td>0.00</td>\n",
       "      <td>0.00</td>\n",
       "    </tr>\n",
       "    <tr>\n",
       "      <th>location_service_type_id</th>\n",
       "      <td>9.63</td>\n",
       "      <td>10.26</td>\n",
       "    </tr>\n",
       "    <tr>\n",
       "      <th>ignore_availability_requirements</th>\n",
       "      <td>0.04</td>\n",
       "      <td>0.05</td>\n",
       "    </tr>\n",
       "    <tr>\n",
       "      <th>fuel_level</th>\n",
       "      <td>77.34</td>\n",
       "      <td>80.34</td>\n",
       "    </tr>\n",
       "    <tr>\n",
       "      <th>rebook_of_id</th>\n",
       "      <td>189643.47</td>\n",
       "      <td>193854.98</td>\n",
       "    </tr>\n",
       "    <tr>\n",
       "      <th>rebooked_by_id</th>\n",
       "      <td>nan</td>\n",
       "      <td>199285.49</td>\n",
       "    </tr>\n",
       "    <tr>\n",
       "      <th>car_scanned_at</th>\n",
       "      <td>42525.41</td>\n",
       "      <td>42394.37</td>\n",
       "    </tr>\n",
       "    <tr>\n",
       "      <th>disqualified_promo_code_id</th>\n",
       "      <td>239894.91</td>\n",
       "      <td>297424.00</td>\n",
       "    </tr>\n",
       "    <tr>\n",
       "      <th>consolation_promo_code_id</th>\n",
       "      <td>567944.78</td>\n",
       "      <td>nan</td>\n",
       "    </tr>\n",
       "    <tr>\n",
       "      <th>cancelled_at</th>\n",
       "      <td>42022.91</td>\n",
       "      <td>42485.77</td>\n",
       "    </tr>\n",
       "    <tr>\n",
       "      <th>local_rental</th>\n",
       "      <td>0.04</td>\n",
       "      <td>0.00</td>\n",
       "    </tr>\n",
       "    <tr>\n",
       "      <th>booked_by_id</th>\n",
       "      <td>354264.57</td>\n",
       "      <td>360436.50</td>\n",
       "    </tr>\n",
       "    <tr>\n",
       "      <th>awards_referral_bonus</th>\n",
       "      <td>0.05</td>\n",
       "      <td>0.00</td>\n",
       "    </tr>\n",
       "    <tr>\n",
       "      <th>extole_conversion_id</th>\n",
       "      <td>6262325848601744384.00</td>\n",
       "      <td>6238685876070838272.00</td>\n",
       "    </tr>\n",
       "    <tr>\n",
       "      <th>potential_local_rental</th>\n",
       "      <td>0.40</td>\n",
       "      <td>0.54</td>\n",
       "    </tr>\n",
       "    <tr>\n",
       "      <th>claimed_at</th>\n",
       "      <td>42892.00</td>\n",
       "      <td>42884.32</td>\n",
       "    </tr>\n",
       "    <tr>\n",
       "      <th>customer_modifiable</th>\n",
       "      <td>1.00</td>\n",
       "      <td>1.00</td>\n",
       "    </tr>\n",
       "    <tr>\n",
       "      <th>credit_card_id</th>\n",
       "      <td>148980.86</td>\n",
       "      <td>136393.49</td>\n",
       "    </tr>\n",
       "    <tr>\n",
       "      <th>time_to_pickup</th>\n",
       "      <td>15.53</td>\n",
       "      <td>23.31</td>\n",
       "    </tr>\n",
       "    <tr>\n",
       "      <th>trip_duration</th>\n",
       "      <td>2.77</td>\n",
       "      <td>2.99</td>\n",
       "    </tr>\n",
       "    <tr>\n",
       "      <th>used_promo</th>\n",
       "      <td>0.54</td>\n",
       "      <td>0.25</td>\n",
       "    </tr>\n",
       "    <tr>\n",
       "      <th>same_location</th>\n",
       "      <td>1.00</td>\n",
       "      <td>1.00</td>\n",
       "    </tr>\n",
       "  </tbody>\n",
       "</table>\n",
       "</div>"
      ],
      "text/plain": [
       "cancelled                                                       0  \\\n",
       "id                                                      243490.29   \n",
       "user_id                                                 195434.73   \n",
       "status                                                        nan   \n",
       "booked_price                                               217.03   \n",
       "booked_daily_rate                                          140.78   \n",
       "confirmed                                                    0.00   \n",
       "reservation_type_id                                          2.83   \n",
       "pickup_location_id                                           7.91   \n",
       "dropoff_location_id                                          7.91   \n",
       "rental_agreement_id                                         22.56   \n",
       "promo_code_id                                           345002.25   \n",
       "actual_pickup                                            42493.31   \n",
       "actual_dropoff                                           42495.98   \n",
       "one_day_reminder_sent                                        0.02   \n",
       "two_day_reminder_profile_incomplete_sent                     0.02   \n",
       "three_day_reminder_profile_incomplete_sent                   0.02   \n",
       "created_as_guest                                             0.15   \n",
       "user_profile_point_program_id                             4897.46   \n",
       "affiliate_program_id                                  71972227.45   \n",
       "commission_percentage                                        0.00   \n",
       "location_service_type_id                                     9.63   \n",
       "ignore_availability_requirements                             0.04   \n",
       "fuel_level                                                  77.34   \n",
       "rebook_of_id                                            189643.47   \n",
       "rebooked_by_id                                                nan   \n",
       "car_scanned_at                                           42525.41   \n",
       "disqualified_promo_code_id                              239894.91   \n",
       "consolation_promo_code_id                               567944.78   \n",
       "cancelled_at                                             42022.91   \n",
       "local_rental                                                 0.04   \n",
       "booked_by_id                                            354264.57   \n",
       "awards_referral_bonus                                        0.05   \n",
       "extole_conversion_id                       6262325848601744384.00   \n",
       "potential_local_rental                                       0.40   \n",
       "claimed_at                                               42892.00   \n",
       "customer_modifiable                                          1.00   \n",
       "credit_card_id                                          148980.86   \n",
       "time_to_pickup                                              15.53   \n",
       "trip_duration                                                2.77   \n",
       "used_promo                                                   0.54   \n",
       "same_location                                                1.00   \n",
       "\n",
       "cancelled                                                       1  \n",
       "id                                                      216578.76  \n",
       "user_id                                                 189254.30  \n",
       "status                                                        nan  \n",
       "booked_price                                               232.09  \n",
       "booked_daily_rate                                          140.54  \n",
       "confirmed                                                    0.00  \n",
       "reservation_type_id                                          2.46  \n",
       "pickup_location_id                                           8.54  \n",
       "dropoff_location_id                                          8.54  \n",
       "rental_agreement_id                                         12.83  \n",
       "promo_code_id                                           287639.74  \n",
       "actual_pickup                                            41561.82  \n",
       "actual_dropoff                                           41509.73  \n",
       "one_day_reminder_sent                                        0.01  \n",
       "two_day_reminder_profile_incomplete_sent                     0.01  \n",
       "three_day_reminder_profile_incomplete_sent                   0.01  \n",
       "created_as_guest                                             0.30  \n",
       "user_profile_point_program_id                             4398.24  \n",
       "affiliate_program_id                                  38652372.20  \n",
       "commission_percentage                                        0.00  \n",
       "location_service_type_id                                    10.26  \n",
       "ignore_availability_requirements                             0.05  \n",
       "fuel_level                                                  80.34  \n",
       "rebook_of_id                                            193854.98  \n",
       "rebooked_by_id                                          199285.49  \n",
       "car_scanned_at                                           42394.37  \n",
       "disqualified_promo_code_id                              297424.00  \n",
       "consolation_promo_code_id                                     nan  \n",
       "cancelled_at                                             42485.77  \n",
       "local_rental                                                 0.00  \n",
       "booked_by_id                                            360436.50  \n",
       "awards_referral_bonus                                        0.00  \n",
       "extole_conversion_id                       6238685876070838272.00  \n",
       "potential_local_rental                                       0.54  \n",
       "claimed_at                                               42884.32  \n",
       "customer_modifiable                                          1.00  \n",
       "credit_card_id                                          136393.49  \n",
       "time_to_pickup                                              23.31  \n",
       "trip_duration                                                2.99  \n",
       "used_promo                                                   0.25  \n",
       "same_location                                                1.00  "
      ]
     },
     "execution_count": 22,
     "metadata": {},
     "output_type": "execute_result"
    }
   ],
   "source": [
    "df.groupby(\"cancelled\").mean().T"
   ]
  },
  {
   "cell_type": "markdown",
   "metadata": {},
   "source": [
    "### Look at booking application and user agent to see if they have any predictive power"
   ]
  },
  {
   "cell_type": "code",
   "execution_count": 23,
   "metadata": {},
   "outputs": [
    {
     "data": {
      "text/plain": [
       "iphone-appstore     162149\n",
       "web                 133620\n",
       "web-desktop          71439\n",
       "android              26515\n",
       "gds                  18826\n",
       "web-mobile            9969\n",
       "web-tablet            1961\n",
       "iphone-concierge       545\n",
       "iphone-debug           127\n",
       "kiosk                  102\n",
       "Name: booking_application, dtype: int64"
      ]
     },
     "execution_count": 23,
     "metadata": {},
     "output_type": "execute_result"
    }
   ],
   "source": [
    "df[\"booking_application\"].value_counts()"
   ]
  },
  {
   "cell_type": "code",
   "execution_count": 24,
   "metadata": {},
   "outputs": [
    {
     "data": {
      "text/plain": [
       "web                0.43\n",
       "iphone-appstore    0.27\n",
       "web-desktop        0.16\n",
       "android            0.06\n",
       "gds                0.05\n",
       "web-mobile         0.02\n",
       "web-tablet         0.00\n",
       "iphone-concierge   0.00\n",
       "iphone-debug       0.00\n",
       "kiosk              0.00\n",
       "Name: booking_application, dtype: float64"
      ]
     },
     "execution_count": 24,
     "metadata": {},
     "output_type": "execute_result"
    }
   ],
   "source": [
    "mask = df[\"cancelled\"] == 1\n",
    "df[\"booking_application\"][mask].value_counts() / df[\"booking_application\"][mask].count()"
   ]
  },
  {
   "cell_type": "code",
   "execution_count": 25,
   "metadata": {},
   "outputs": [
    {
     "data": {
      "text/plain": [
       "iphone-appstore    0.45\n",
       "web                0.24\n",
       "web-desktop        0.17\n",
       "android            0.07\n",
       "gds                0.04\n",
       "web-mobile         0.02\n",
       "web-tablet         0.00\n",
       "iphone-concierge   0.00\n",
       "kiosk              0.00\n",
       "iphone-debug       0.00\n",
       "Name: booking_application, dtype: float64"
      ]
     },
     "execution_count": 25,
     "metadata": {},
     "output_type": "execute_result"
    }
   ],
   "source": [
    "df[\"booking_application\"][~mask].value_counts() / df[\"booking_application\"][~mask].count()"
   ]
  },
  {
   "cell_type": "code",
   "execution_count": 26,
   "metadata": {},
   "outputs": [],
   "source": [
    "df[\"booking_user_agent\"] = df[\"booking_user_agent\"].str.split(\"/\", expand=True)[0]"
   ]
  },
  {
   "cell_type": "code",
   "execution_count": 27,
   "metadata": {},
   "outputs": [
    {
     "data": {
      "text/plain": [
       "Mozilla           216977\n",
       "driver             89656\n",
       "Silvercar          55926\n",
       "Android            25305\n",
       "driverapp          17238\n",
       "okhttp              1211\n",
       "SilvercarKiosk       102\n",
       "Opera                  6\n",
       "Driver-ios             3\n",
       "Dealerkit              1\n",
       "iPhone OS              1\n",
       "Name: booking_user_agent, dtype: int64"
      ]
     },
     "execution_count": 27,
     "metadata": {},
     "output_type": "execute_result"
    }
   ],
   "source": [
    "df[\"booking_user_agent\"].value_counts()"
   ]
  },
  {
   "cell_type": "code",
   "execution_count": 28,
   "metadata": {},
   "outputs": [
    {
     "data": {
      "text/plain": [
       "Mozilla          0.66\n",
       "driver           0.16\n",
       "Silvercar        0.09\n",
       "Android          0.06\n",
       "driverapp        0.03\n",
       "okhttp           0.00\n",
       "Opera            0.00\n",
       "SilvercarKiosk   0.00\n",
       "Driver-ios       0.00\n",
       "Dealerkit        0.00\n",
       "iPhone OS        0.00\n",
       "Name: booking_user_agent, dtype: float64"
      ]
     },
     "execution_count": 28,
     "metadata": {},
     "output_type": "execute_result"
    }
   ],
   "source": [
    "df[\"booking_user_agent\"][mask].value_counts() / df[\"booking_user_agent\"][mask].count()"
   ]
  },
  {
   "cell_type": "code",
   "execution_count": 29,
   "metadata": {},
   "outputs": [
    {
     "data": {
      "text/plain": [
       "Mozilla          0.46\n",
       "driver           0.26\n",
       "Silvercar        0.16\n",
       "Android          0.07\n",
       "driverapp        0.05\n",
       "okhttp           0.00\n",
       "SilvercarKiosk   0.00\n",
       "Opera            0.00\n",
       "Name: booking_user_agent, dtype: float64"
      ]
     },
     "execution_count": 29,
     "metadata": {},
     "output_type": "execute_result"
    }
   ],
   "source": [
    "df[\"booking_user_agent\"][~mask].value_counts() / df[\"booking_user_agent\"][~mask].count()"
   ]
  },
  {
   "cell_type": "markdown",
   "metadata": {},
   "source": [
    "### Look referral bonuses, local rentals, and guest rentals"
   ]
  },
  {
   "cell_type": "code",
   "execution_count": 37,
   "metadata": {},
   "outputs": [
    {
     "data": {
      "text/plain": [
       "0    418399\n",
       "1     12289\n",
       "Name: awards_referral_bonus, dtype: int64"
      ]
     },
     "execution_count": 37,
     "metadata": {},
     "output_type": "execute_result"
    }
   ],
   "source": [
    "df[\"awards_referral_bonus\"].value_counts()"
   ]
  },
  {
   "cell_type": "code",
   "execution_count": 38,
   "metadata": {},
   "outputs": [
    {
     "data": {
      "text/plain": [
       "0    418682\n",
       "1     12006\n",
       "Name: local_rental, dtype: int64"
      ]
     },
     "execution_count": 38,
     "metadata": {},
     "output_type": "execute_result"
    }
   ],
   "source": [
    "df[\"local_rental\"].value_counts()"
   ]
  },
  {
   "cell_type": "code",
   "execution_count": 39,
   "metadata": {
    "scrolled": true
   },
   "outputs": [
    {
     "data": {
      "text/plain": [
       "0    341658\n",
       "1     89030\n",
       "Name: created_as_guest, dtype: int64"
      ]
     },
     "execution_count": 39,
     "metadata": {},
     "output_type": "execute_result"
    }
   ],
   "source": [
    "df[\"created_as_guest\"].value_counts()"
   ]
  },
  {
   "cell_type": "markdown",
   "metadata": {},
   "source": [
    "### Engineer new date related features"
   ]
  },
  {
   "cell_type": "code",
   "execution_count": 30,
   "metadata": {
    "collapsed": true
   },
   "outputs": [],
   "source": [
    "df[\"pickup_dow\"] = df[\"pickup\"].dt.dayofweek\n",
    "df[\"pickup_month\"] = df[\"pickup\"].dt.month\n",
    "df[\"pickup_year\"] = df[\"pickup\"].dt.year"
   ]
  },
  {
   "cell_type": "code",
   "execution_count": 31,
   "metadata": {},
   "outputs": [
    {
     "data": {
      "text/plain": [
       "cancelled  pickup_dow\n",
       "0          0            226.30\n",
       "           1            194.63\n",
       "           2            206.10\n",
       "           3            214.58\n",
       "           4            232.47\n",
       "           5            232.43\n",
       "           6            256.33\n",
       "1          0            236.48\n",
       "           1            215.37\n",
       "           2            212.47\n",
       "           3            232.96\n",
       "           4            244.49\n",
       "           5            241.20\n",
       "           6            271.83\n",
       "Name: booked_price, dtype: float64"
      ]
     },
     "execution_count": 31,
     "metadata": {},
     "output_type": "execute_result"
    }
   ],
   "source": [
    "df.groupby([\"cancelled\", \"pickup_dow\"])[\"booked_price\"].mean()"
   ]
  },
  {
   "cell_type": "code",
   "execution_count": 32,
   "metadata": {},
   "outputs": [
    {
     "data": {
      "text/plain": [
       "pickup_dow\n",
       "0   0.33\n",
       "1   0.32\n",
       "2   0.34\n",
       "3   0.38\n",
       "4   0.43\n",
       "5   0.44\n",
       "6   0.41\n",
       "Name: cancelled, dtype: float64"
      ]
     },
     "execution_count": 32,
     "metadata": {},
     "output_type": "execute_result"
    }
   ],
   "source": [
    "df.groupby(\"pickup_dow\")[\"cancelled\"].mean()"
   ]
  },
  {
   "cell_type": "code",
   "execution_count": 33,
   "metadata": {
    "collapsed": true
   },
   "outputs": [],
   "source": [
    "df[\"weekend_pickup\"] = (df[\"pickup_dow\"].isin([4, 5, 6])).astype(int)"
   ]
  },
  {
   "cell_type": "code",
   "execution_count": 34,
   "metadata": {},
   "outputs": [
    {
     "data": {
      "text/plain": [
       "pickup_month\n",
       "1    0.42\n",
       "2    0.39\n",
       "3    0.36\n",
       "4    0.36\n",
       "5    0.36\n",
       "6    0.37\n",
       "7    0.39\n",
       "8    0.37\n",
       "9    0.35\n",
       "10   0.35\n",
       "11   0.37\n",
       "12   0.45\n",
       "Name: cancelled, dtype: float64"
      ]
     },
     "execution_count": 34,
     "metadata": {},
     "output_type": "execute_result"
    }
   ],
   "source": [
    "df.groupby(\"pickup_month\")[\"cancelled\"].mean()"
   ]
  },
  {
   "cell_type": "code",
   "execution_count": 35,
   "metadata": {
    "collapsed": true
   },
   "outputs": [],
   "source": [
    "df[\"dec_jan_pickup\"] = (df[\"pickup_dow\"].isin([1, 12])).astype(int)"
   ]
  },
  {
   "cell_type": "code",
   "execution_count": 36,
   "metadata": {},
   "outputs": [
    {
     "data": {
      "text/plain": [
       "pickup_year\n",
       "2013   0.53\n",
       "2014   0.45\n",
       "2015   0.42\n",
       "2016   0.33\n",
       "2017   0.34\n",
       "2018   1.00\n",
       "Name: cancelled, dtype: float64"
      ]
     },
     "execution_count": 36,
     "metadata": {},
     "output_type": "execute_result"
    }
   ],
   "source": [
    "df.groupby(\"pickup_year\")[\"cancelled\"].mean()"
   ]
  },
  {
   "cell_type": "code",
   "execution_count": 86,
   "metadata": {},
   "outputs": [],
   "source": [
    "df[[\"first_rental\", \"new_customer\", \"repeat_customer\"]] = pd.get_dummies(df[\"reservation_frequency\"])"
   ]
  },
  {
   "cell_type": "code",
   "execution_count": 88,
   "metadata": {},
   "outputs": [
    {
     "data": {
      "text/html": [
       "<div>\n",
       "<style>\n",
       "    .dataframe thead tr:only-child th {\n",
       "        text-align: right;\n",
       "    }\n",
       "\n",
       "    .dataframe thead th {\n",
       "        text-align: left;\n",
       "    }\n",
       "\n",
       "    .dataframe tbody tr th {\n",
       "        vertical-align: top;\n",
       "    }\n",
       "</style>\n",
       "<table border=\"1\" class=\"dataframe\">\n",
       "  <thead>\n",
       "    <tr style=\"text-align: right;\">\n",
       "      <th></th>\n",
       "      <th>first_rental</th>\n",
       "      <th>new_customer</th>\n",
       "      <th>repeat_customer</th>\n",
       "    </tr>\n",
       "    <tr>\n",
       "      <th>cancelled</th>\n",
       "      <th></th>\n",
       "      <th></th>\n",
       "      <th></th>\n",
       "    </tr>\n",
       "  </thead>\n",
       "  <tbody>\n",
       "    <tr>\n",
       "      <th>0</th>\n",
       "      <td>0.15</td>\n",
       "      <td>0.36</td>\n",
       "      <td>0.47</td>\n",
       "    </tr>\n",
       "    <tr>\n",
       "      <th>1</th>\n",
       "      <td>0.11</td>\n",
       "      <td>0.29</td>\n",
       "      <td>0.21</td>\n",
       "    </tr>\n",
       "  </tbody>\n",
       "</table>\n",
       "</div>"
      ],
      "text/plain": [
       "           first_rental  new_customer  repeat_customer\n",
       "cancelled                                             \n",
       "0                  0.15          0.36             0.47\n",
       "1                  0.11          0.29             0.21"
      ]
     },
     "execution_count": 88,
     "metadata": {},
     "output_type": "execute_result"
    }
   ],
   "source": [
    "df.groupby(\"cancelled\")[[\"first_rental\", \"new_customer\", \"repeat_customer\"]].mean()"
   ]
  },
  {
   "cell_type": "code",
   "execution_count": 110,
   "metadata": {},
   "outputs": [],
   "source": [
    "df[\"new_customer\"] = df[\"repeat_customer\"] == 0\n",
    "df.drop([\"first_rental\", \"repeat_customer\"], axis=1, inplace=True)"
   ]
  },
  {
   "cell_type": "code",
   "execution_count": null,
   "metadata": {
    "collapsed": true
   },
   "outputs": [],
   "source": []
  },
  {
   "cell_type": "code",
   "execution_count": null,
   "metadata": {
    "collapsed": true
   },
   "outputs": [],
   "source": []
  },
  {
   "cell_type": "code",
   "execution_count": null,
   "metadata": {
    "collapsed": true
   },
   "outputs": [],
   "source": []
  },
  {
   "cell_type": "code",
   "execution_count": null,
   "metadata": {
    "collapsed": true
   },
   "outputs": [],
   "source": []
  },
  {
   "cell_type": "markdown",
   "metadata": {},
   "source": [
    "# Model Building"
   ]
  },
  {
   "cell_type": "code",
   "execution_count": 130,
   "metadata": {},
   "outputs": [],
   "source": [
    "# cols = [\"user_id\", \"cancelled\", \"time_to_pickup\", \"reservation_frequency\", \"used_promo\",\n",
    "#       \"trip_length\"]\n",
    "# cols = [\"user_id\", \"cancelled\"]\n",
    "\n",
    "cols = df.columns[(df.dtypes != \"object\") & (df.dtypes != \"datetime64[ns]\") & (np.sum(df.isnull()) < 1000)]\n",
    "df_model = df[cols]\n",
    "df_model[\"promo_code_id\"] = df[\"promo_code_id\"]"
   ]
  },
  {
   "cell_type": "code",
   "execution_count": 131,
   "metadata": {},
   "outputs": [],
   "source": [
    "df_codes = df_promo_codes[[\"id\", \"promotion_id\"]].set_index(\"id\")"
   ]
  },
  {
   "cell_type": "code",
   "execution_count": 132,
   "metadata": {},
   "outputs": [],
   "source": [
    "df_promo_model = df_codes.join(df_promos[[\"value\", \"id\"]].set_index(\"id\"), how=\"left\")"
   ]
  },
  {
   "cell_type": "code",
   "execution_count": 133,
   "metadata": {},
   "outputs": [],
   "source": [
    "df_promo_model.drop(\"promotion_id\", axis=1, inplace=True)"
   ]
  },
  {
   "cell_type": "code",
   "execution_count": 134,
   "metadata": {},
   "outputs": [],
   "source": [
    "df_model = df_model.join(df_promo_model, how=\"left\", on=\"promo_code_id\")\n",
    "df_model.drop(\"promo_code_id\", axis=1, inplace=True)\n",
    "df_model.value.fillna(0, inplace=True)"
   ]
  },
  {
   "cell_type": "code",
   "execution_count": 135,
   "metadata": {
    "collapsed": true
   },
   "outputs": [],
   "source": [
    "df_users_model = df_users[[\"sign_in_count\", \"is_gds_user\", \"id\"]].set_index(\"id\")\n",
    "df_model = df_model.join(df_users_model, how=\"left\", on=\"user_id\")\n",
    "df_model.drop(\"user_id\", axis=1, inplace=True)"
   ]
  },
  {
   "cell_type": "code",
   "execution_count": 136,
   "metadata": {},
   "outputs": [],
   "source": [
    "df_model.dropna(inplace=True)"
   ]
  },
  {
   "cell_type": "code",
   "execution_count": 137,
   "metadata": {},
   "outputs": [],
   "source": [
    "df_model = df_model[df_model[\"value\"] <= 100]\n",
    "df_model[\"value\"] = pd.cut(df_model[\"value\"], 3, labels=[0, 1, 2])"
   ]
  },
  {
   "cell_type": "code",
   "execution_count": 138,
   "metadata": {},
   "outputs": [
    {
     "data": {
      "text/plain": [
       "value\n",
       "0   0.38\n",
       "1   0.29\n",
       "2   0.19\n",
       "Name: cancelled, dtype: float64"
      ]
     },
     "execution_count": 138,
     "metadata": {},
     "output_type": "execute_result"
    }
   ],
   "source": [
    "df_model.groupby(\"value\")[\"cancelled\"].mean()"
   ]
  },
  {
   "cell_type": "code",
   "execution_count": 139,
   "metadata": {},
   "outputs": [],
   "source": [
    "y = df_model.pop(\"cancelled\")\n",
    "X_train, X_test, y_train, y_test = train_test_split(df_model, y)"
   ]
  },
  {
   "cell_type": "code",
   "execution_count": 140,
   "metadata": {},
   "outputs": [
    {
     "data": {
      "text/plain": [
       "0.63323734324198788"
      ]
     },
     "execution_count": 140,
     "metadata": {},
     "output_type": "execute_result"
    }
   ],
   "source": [
    "lr = LogisticRegression()\n",
    "lr.fit(X_train, y_train)\n",
    "lr.score(X_test, y_test)"
   ]
  },
  {
   "cell_type": "code",
   "execution_count": 141,
   "metadata": {},
   "outputs": [
    {
     "data": {
      "text/plain": [
       "0.73635856943799349"
      ]
     },
     "execution_count": 141,
     "metadata": {},
     "output_type": "execute_result"
    }
   ],
   "source": [
    "rf = RandomForestClassifier(max_depth=3, n_estimators=50)\n",
    "rf.fit(X_train, y_train)\n",
    "rf.score(X_test, y_test)"
   ]
  },
  {
   "cell_type": "code",
   "execution_count": 142,
   "metadata": {},
   "outputs": [
    {
     "data": {
      "text/plain": [
       "<matplotlib.axes._subplots.AxesSubplot at 0x1a4ac480f0>"
      ]
     },
     "execution_count": 142,
     "metadata": {},
     "output_type": "execute_result"
    },
    {
     "data": {
      "image/png": "[encoded data removed]",
      "text/plain": [
       "<matplotlib.figure.Figure at 0x1a4ad6b128>"
      ]
     },
     "metadata": {},
     "output_type": "display_data"
    }
   ],
   "source": [
    "feat_scores = pd.DataFrame({'Mean Decrease Impurity' : rf.feature_importances_},\n",
    "                           index=df_model.columns)\n",
    "feat_scores = feat_scores.sort_values(by='Mean Decrease Impurity')\n",
    "feat_scores.plot(kind='barh', figsize=(12,12))"
   ]
  },
  {
   "cell_type": "code",
   "execution_count": 127,
   "metadata": {},
   "outputs": [
    {
     "data": {
      "text/plain": [
       "GradientBoostingClassifier(criterion='friedman_mse', init=None,\n",
       "              learning_rate=0.05, loss='deviance', max_depth=8,\n",
       "              max_features='auto', max_leaf_nodes=None,\n",
       "              min_impurity_decrease=0.0, min_impurity_split=None,\n",
       "              min_samples_leaf=1, min_samples_split=2,\n",
       "              min_weight_fraction_leaf=0.0, n_estimators=50,\n",
       "              presort='auto', random_state=None, subsample=0.5, verbose=0,\n",
       "              warm_start=False)"
      ]
     },
     "execution_count": 127,
     "metadata": {},
     "output_type": "execute_result"
    }
   ],
   "source": [
    "gbc = GradientBoostingClassifier(n_estimators=50, max_depth=8, subsample=0.5, \n",
    "                                 max_features='auto', learning_rate=0.05)\n",
    "gbc.fit(X_train, y_train)"
   ]
  },
  {
   "cell_type": "code",
   "execution_count": 128,
   "metadata": {},
   "outputs": [
    {
     "data": {
      "text/plain": [
       "0.80256386437529026"
      ]
     },
     "execution_count": 128,
     "metadata": {},
     "output_type": "execute_result"
    }
   ],
   "source": [
    "gbc.score(X_test, y_test)"
   ]
  },
  {
   "cell_type": "code",
   "execution_count": null,
   "metadata": {
    "collapsed": true
   },
   "outputs": [],
   "source": []
  }
 ],
 "metadata": {
  "kernelspec": {
   "display_name": "Python 3",
   "language": "python",
   "name": "python3"
  },
  "language_info": {
   "codemirror_mode": {
    "name": "ipython",
    "version": 3
   },
   "file_extension": ".py",
   "mimetype": "text/x-python",
   "name": "python",
   "nbconvert_exporter": "python",
   "pygments_lexer": "ipython3",
   "version": "3.6.3"
  }
 },
 "nbformat": 4,
 "nbformat_minor": 2
}
