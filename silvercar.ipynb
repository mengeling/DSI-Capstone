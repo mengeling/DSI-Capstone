{
 "cells": [
  {
   "cell_type": "code",
   "execution_count": 1,
   "metadata": {
    "collapsed": true
   },
   "outputs": [],
   "source": [
    "import pandas as pd\n",
    "import numpy as np\n",
    "import warnings\n",
    "warnings.filterwarnings(\"ignore\")\n",
    "import matplotlib.pyplot as plt\n",
    "%matplotlib inline\n",
    "from sklearn.model_selection import train_test_split\n",
    "from sklearn.linear_model import LogisticRegression\n",
    "from sklearn.ensemble import RandomForestClassifier"
   ]
  },
  {
   "cell_type": "code",
   "execution_count": 4,
   "metadata": {},
   "outputs": [],
   "source": [
    "df = pd.read_csv('data/silvercar_reservations.csv')\n",
    "df_users = pd.read_csv('data/silvercar_users.csv')\n",
    "df_promos = pd.read_csv('data/silvercar_promotions.csv', encoding=\"ISO-8859-1\")\n",
    "df_promo_codes = pd.read_csv('data/silvercar_promo_codes.csv', encoding=\"ISO-8859-1\")\n",
    "df_locs = pd.read_csv('data/silvercar_locations.csv', encoding=\"ISO-8859-1\")"
   ]
  },
  {
   "cell_type": "code",
   "execution_count": 13,
   "metadata": {},
   "outputs": [
    {
     "data": {
      "text/html": [
       "<div>\n",
       "<style>\n",
       "    .dataframe thead tr:only-child th {\n",
       "        text-align: right;\n",
       "    }\n",
       "\n",
       "    .dataframe thead th {\n",
       "        text-align: left;\n",
       "    }\n",
       "\n",
       "    .dataframe tbody tr th {\n",
       "        vertical-align: top;\n",
       "    }\n",
       "</style>\n",
       "<table border=\"1\" class=\"dataframe\">\n",
       "  <thead>\n",
       "    <tr style=\"text-align: right;\">\n",
       "      <th></th>\n",
       "      <th>id</th>\n",
       "      <th>pickup</th>\n",
       "      <th>dropoff</th>\n",
       "      <th>user_id</th>\n",
       "      <th>status</th>\n",
       "      <th>confirmation_token</th>\n",
       "      <th>created_at</th>\n",
       "      <th>updated_at</th>\n",
       "      <th>booked_price</th>\n",
       "      <th>current_state</th>\n",
       "      <th>...</th>\n",
       "      <th>publisher_id</th>\n",
       "      <th>cancelled_at</th>\n",
       "      <th>local_rental</th>\n",
       "      <th>booked_by_id</th>\n",
       "      <th>awards_referral_bonus</th>\n",
       "      <th>extole_conversion_id</th>\n",
       "      <th>potential_local_rental</th>\n",
       "      <th>claimed_at</th>\n",
       "      <th>customer_modifiable</th>\n",
       "      <th>credit_card_id</th>\n",
       "    </tr>\n",
       "  </thead>\n",
       "  <tbody>\n",
       "    <tr>\n",
       "      <th>0</th>\n",
       "      <td>89</td>\n",
       "      <td>41288.29167</td>\n",
       "      <td>41289.39583</td>\n",
       "      <td>12.0</td>\n",
       "      <td>NaN</td>\n",
       "      <td>5B23231DC0</td>\n",
       "      <td>41269.81361</td>\n",
       "      <td>41417.79529</td>\n",
       "      <td>NaN</td>\n",
       "      <td>cancelled</td>\n",
       "      <td>...</td>\n",
       "      <td>NaN</td>\n",
       "      <td>NaN</td>\n",
       "      <td>0</td>\n",
       "      <td>NaN</td>\n",
       "      <td>0</td>\n",
       "      <td>NaN</td>\n",
       "      <td>NaN</td>\n",
       "      <td>NaN</td>\n",
       "      <td>1</td>\n",
       "      <td>NaN</td>\n",
       "    </tr>\n",
       "    <tr>\n",
       "      <th>1</th>\n",
       "      <td>91</td>\n",
       "      <td>41307.79167</td>\n",
       "      <td>41308.79167</td>\n",
       "      <td>49.0</td>\n",
       "      <td>NaN</td>\n",
       "      <td>9A10C66F0C</td>\n",
       "      <td>41269.84853</td>\n",
       "      <td>41417.79530</td>\n",
       "      <td>NaN</td>\n",
       "      <td>cancelled</td>\n",
       "      <td>...</td>\n",
       "      <td>NaN</td>\n",
       "      <td>NaN</td>\n",
       "      <td>0</td>\n",
       "      <td>NaN</td>\n",
       "      <td>0</td>\n",
       "      <td>NaN</td>\n",
       "      <td>NaN</td>\n",
       "      <td>NaN</td>\n",
       "      <td>1</td>\n",
       "      <td>NaN</td>\n",
       "    </tr>\n",
       "    <tr>\n",
       "      <th>2</th>\n",
       "      <td>93</td>\n",
       "      <td>41297.41667</td>\n",
       "      <td>41310.83333</td>\n",
       "      <td>51.0</td>\n",
       "      <td>NaN</td>\n",
       "      <td>157C8653CA</td>\n",
       "      <td>41269.86818</td>\n",
       "      <td>41417.79530</td>\n",
       "      <td>NaN</td>\n",
       "      <td>cancelled</td>\n",
       "      <td>...</td>\n",
       "      <td>NaN</td>\n",
       "      <td>NaN</td>\n",
       "      <td>0</td>\n",
       "      <td>NaN</td>\n",
       "      <td>0</td>\n",
       "      <td>NaN</td>\n",
       "      <td>NaN</td>\n",
       "      <td>NaN</td>\n",
       "      <td>1</td>\n",
       "      <td>NaN</td>\n",
       "    </tr>\n",
       "    <tr>\n",
       "      <th>3</th>\n",
       "      <td>94</td>\n",
       "      <td>41291.54167</td>\n",
       "      <td>41293.83333</td>\n",
       "      <td>45.0</td>\n",
       "      <td>NaN</td>\n",
       "      <td>C48194AA4F</td>\n",
       "      <td>41269.91132</td>\n",
       "      <td>41417.79530</td>\n",
       "      <td>NaN</td>\n",
       "      <td>cancelled</td>\n",
       "      <td>...</td>\n",
       "      <td>NaN</td>\n",
       "      <td>NaN</td>\n",
       "      <td>0</td>\n",
       "      <td>NaN</td>\n",
       "      <td>0</td>\n",
       "      <td>NaN</td>\n",
       "      <td>NaN</td>\n",
       "      <td>NaN</td>\n",
       "      <td>1</td>\n",
       "      <td>NaN</td>\n",
       "    </tr>\n",
       "    <tr>\n",
       "      <th>4</th>\n",
       "      <td>95</td>\n",
       "      <td>41290.97917</td>\n",
       "      <td>41291.79167</td>\n",
       "      <td>55.0</td>\n",
       "      <td>NaN</td>\n",
       "      <td>AABEB48B94</td>\n",
       "      <td>41269.93505</td>\n",
       "      <td>41702.07976</td>\n",
       "      <td>NaN</td>\n",
       "      <td>finished</td>\n",
       "      <td>...</td>\n",
       "      <td>NaN</td>\n",
       "      <td>NaN</td>\n",
       "      <td>0</td>\n",
       "      <td>NaN</td>\n",
       "      <td>0</td>\n",
       "      <td>NaN</td>\n",
       "      <td>NaN</td>\n",
       "      <td>NaN</td>\n",
       "      <td>1</td>\n",
       "      <td>NaN</td>\n",
       "    </tr>\n",
       "  </tbody>\n",
       "</table>\n",
       "<p>5 rows × 52 columns</p>\n",
       "</div>"
      ],
      "text/plain": [
       "   id       pickup      dropoff  user_id  status confirmation_token  \\\n",
       "0  89  41288.29167  41289.39583     12.0     NaN         5B23231DC0   \n",
       "1  91  41307.79167  41308.79167     49.0     NaN         9A10C66F0C   \n",
       "2  93  41297.41667  41310.83333     51.0     NaN         157C8653CA   \n",
       "3  94  41291.54167  41293.83333     45.0     NaN         C48194AA4F   \n",
       "4  95  41290.97917  41291.79167     55.0     NaN         AABEB48B94   \n",
       "\n",
       "    created_at   updated_at  booked_price current_state       ...        \\\n",
       "0  41269.81361  41417.79529           NaN     cancelled       ...         \n",
       "1  41269.84853  41417.79530           NaN     cancelled       ...         \n",
       "2  41269.86818  41417.79530           NaN     cancelled       ...         \n",
       "3  41269.91132  41417.79530           NaN     cancelled       ...         \n",
       "4  41269.93505  41702.07976           NaN      finished       ...         \n",
       "\n",
       "   publisher_id  cancelled_at  local_rental  booked_by_id  \\\n",
       "0           NaN           NaN             0           NaN   \n",
       "1           NaN           NaN             0           NaN   \n",
       "2           NaN           NaN             0           NaN   \n",
       "3           NaN           NaN             0           NaN   \n",
       "4           NaN           NaN             0           NaN   \n",
       "\n",
       "   awards_referral_bonus  extole_conversion_id  potential_local_rental  \\\n",
       "0                      0                   NaN                     NaN   \n",
       "1                      0                   NaN                     NaN   \n",
       "2                      0                   NaN                     NaN   \n",
       "3                      0                   NaN                     NaN   \n",
       "4                      0                   NaN                     NaN   \n",
       "\n",
       "   claimed_at  customer_modifiable  credit_card_id  \n",
       "0         NaN                    1             NaN  \n",
       "1         NaN                    1             NaN  \n",
       "2         NaN                    1             NaN  \n",
       "3         NaN                    1             NaN  \n",
       "4         NaN                    1             NaN  \n",
       "\n",
       "[5 rows x 52 columns]"
      ]
     },
     "execution_count": 13,
     "metadata": {},
     "output_type": "execute_result"
    }
   ],
   "source": [
    "df.head()"
   ]
  },
  {
   "cell_type": "code",
   "execution_count": 214,
   "metadata": {},
   "outputs": [
    {
     "data": {
      "text/plain": [
       "id                                                 0\n",
       "pickup                                             0\n",
       "dropoff                                            0\n",
       "user_id                                            1\n",
       "status                                        462564\n",
       "confirmation_token                                 0\n",
       "created_at                                         0\n",
       "updated_at                                         0\n",
       "booked_price                                  439186\n",
       "current_state                                      0\n",
       "booked_daily_rate                             439186\n",
       "confirmed                                          0\n",
       "reservation_type_id                                0\n",
       "pickup_location_id                                 0\n",
       "dropoff_location_id                                0\n",
       "rental_agreement_id                           193945\n",
       "promo_code_id                                 265766\n",
       "actual_pickup                                 193823\n",
       "actual_dropoff                                194458\n",
       "one_day_reminder_sent                              0\n",
       "two_day_reminder_profile_incomplete_sent           0\n",
       "three_day_reminder_profile_incomplete_sent         0\n",
       "created_as_guest                                   0\n",
       "user_profile_point_program_id                 430207\n",
       "affiliate_program_id                          458545\n",
       "commission_percentage                              0\n",
       "location_service_type_id                          28\n",
       "booking_user_agent                             29785\n",
       "booking_application                             6681\n",
       "ignore_availability_requirements                  10\n",
       "fuel_level                                    194719\n",
       "rebook_of_id                                  436855\n",
       "rebooked_by_id                                438346\n",
       "reservation_frequency                          74028\n",
       "car_scanned_at                                200814\n",
       "disqualified_promo_code_id                    461493\n",
       "consolation_promo_code_id                     462528\n",
       "utm_source                                    410054\n",
       "utm_medium                                    410113\n",
       "utm_campaign                                  427757\n",
       "utm_term                                      447501\n",
       "utm_content                                   451663\n",
       "publisher_id                                  442365\n",
       "cancelled_at                                  315510\n",
       "local_rental                                       0\n",
       "booked_by_id                                  427238\n",
       "awards_referral_bonus                              0\n",
       "extole_conversion_id                          440880\n",
       "potential_local_rental                        394661\n",
       "claimed_at                                    454916\n",
       "customer_modifiable                                0\n",
       "credit_card_id                                311991\n",
       "dtype: int64"
      ]
     },
     "execution_count": 214,
     "metadata": {},
     "output_type": "execute_result"
    }
   ],
   "source": [
    "np.sum(df.isnull())"
   ]
  },
  {
   "cell_type": "code",
   "execution_count": 215,
   "metadata": {},
   "outputs": [
    {
     "data": {
      "text/plain": [
       "array([nan, 'web', 'iphone-appstore', 'android', 'kiosk',\n",
       "       'iphone-concierge', 'gds', 'iphone-debug', 'web-desktop',\n",
       "       'web-mobile', 'web-tablet'], dtype=object)"
      ]
     },
     "execution_count": 215,
     "metadata": {},
     "output_type": "execute_result"
    }
   ],
   "source": [
    "df[\"booking_application\"].unique()"
   ]
  },
  {
   "cell_type": "code",
   "execution_count": 216,
   "metadata": {
    "collapsed": true
   },
   "outputs": [],
   "source": [
    "df[\"pickup\"] = pd.to_datetime('1899-12-30') + pd.to_timedelta(df[\"pickup\"], 'D')\n",
    "df[\"dropoff\"] = pd.to_datetime('1899-12-30') + pd.to_timedelta(df[\"dropoff\"], 'D')\n",
    "df[\"created_at\"] = pd.to_datetime('1899-12-30') + pd.to_timedelta(df[\"created_at\"], 'D')\n",
    "df[\"updated_at\"] = pd.to_datetime('1899-12-30') + pd.to_timedelta(df[\"updated_at\"], 'D')"
   ]
  },
  {
   "cell_type": "code",
   "execution_count": 217,
   "metadata": {},
   "outputs": [
    {
     "name": "stdout",
     "output_type": "stream",
     "text": [
      "2012-12-26 19:31:35.904000\n",
      "2017-12-14 19:02:15.935999999\n"
     ]
    }
   ],
   "source": [
    "print(df[\"created_at\"].min())\n",
    "print(df[\"created_at\"].max())"
   ]
  },
  {
   "cell_type": "code",
   "execution_count": 218,
   "metadata": {},
   "outputs": [
    {
     "data": {
      "text/html": [
       "<div>\n",
       "<style>\n",
       "    .dataframe thead tr:only-child th {\n",
       "        text-align: right;\n",
       "    }\n",
       "\n",
       "    .dataframe thead th {\n",
       "        text-align: left;\n",
       "    }\n",
       "\n",
       "    .dataframe tbody tr th {\n",
       "        vertical-align: top;\n",
       "    }\n",
       "</style>\n",
       "<table border=\"1\" class=\"dataframe\">\n",
       "  <thead>\n",
       "    <tr style=\"text-align: right;\">\n",
       "      <th></th>\n",
       "      <th>id</th>\n",
       "      <th>pickup</th>\n",
       "      <th>dropoff</th>\n",
       "      <th>user_id</th>\n",
       "      <th>status</th>\n",
       "      <th>confirmation_token</th>\n",
       "      <th>created_at</th>\n",
       "      <th>updated_at</th>\n",
       "      <th>booked_price</th>\n",
       "      <th>current_state</th>\n",
       "      <th>...</th>\n",
       "      <th>publisher_id</th>\n",
       "      <th>cancelled_at</th>\n",
       "      <th>local_rental</th>\n",
       "      <th>booked_by_id</th>\n",
       "      <th>awards_referral_bonus</th>\n",
       "      <th>extole_conversion_id</th>\n",
       "      <th>potential_local_rental</th>\n",
       "      <th>claimed_at</th>\n",
       "      <th>customer_modifiable</th>\n",
       "      <th>credit_card_id</th>\n",
       "    </tr>\n",
       "  </thead>\n",
       "  <tbody>\n",
       "    <tr>\n",
       "      <th>0</th>\n",
       "      <td>89</td>\n",
       "      <td>2013-01-14 07:00:00.288</td>\n",
       "      <td>2013-01-15 09:29:59.712</td>\n",
       "      <td>12.0</td>\n",
       "      <td>NaN</td>\n",
       "      <td>5B23231DC0</td>\n",
       "      <td>2012-12-26 19:31:35.904</td>\n",
       "      <td>2013-05-23 19:05:13.056</td>\n",
       "      <td>NaN</td>\n",
       "      <td>cancelled</td>\n",
       "      <td>...</td>\n",
       "      <td>NaN</td>\n",
       "      <td>NaN</td>\n",
       "      <td>0</td>\n",
       "      <td>NaN</td>\n",
       "      <td>0</td>\n",
       "      <td>NaN</td>\n",
       "      <td>NaN</td>\n",
       "      <td>NaN</td>\n",
       "      <td>1</td>\n",
       "      <td>NaN</td>\n",
       "    </tr>\n",
       "    <tr>\n",
       "      <th>1</th>\n",
       "      <td>91</td>\n",
       "      <td>2013-02-02 19:00:00.288</td>\n",
       "      <td>2013-02-03 19:00:00.288</td>\n",
       "      <td>49.0</td>\n",
       "      <td>NaN</td>\n",
       "      <td>9A10C66F0C</td>\n",
       "      <td>2012-12-26 20:21:52.992</td>\n",
       "      <td>2013-05-23 19:05:13.920</td>\n",
       "      <td>NaN</td>\n",
       "      <td>cancelled</td>\n",
       "      <td>...</td>\n",
       "      <td>NaN</td>\n",
       "      <td>NaN</td>\n",
       "      <td>0</td>\n",
       "      <td>NaN</td>\n",
       "      <td>0</td>\n",
       "      <td>NaN</td>\n",
       "      <td>NaN</td>\n",
       "      <td>NaN</td>\n",
       "      <td>1</td>\n",
       "      <td>NaN</td>\n",
       "    </tr>\n",
       "    <tr>\n",
       "      <th>2</th>\n",
       "      <td>93</td>\n",
       "      <td>2013-01-23 10:00:00.288</td>\n",
       "      <td>2013-02-05 19:59:59.712</td>\n",
       "      <td>51.0</td>\n",
       "      <td>NaN</td>\n",
       "      <td>157C8653CA</td>\n",
       "      <td>2012-12-26 20:50:10.752</td>\n",
       "      <td>2013-05-23 19:05:13.920</td>\n",
       "      <td>NaN</td>\n",
       "      <td>cancelled</td>\n",
       "      <td>...</td>\n",
       "      <td>NaN</td>\n",
       "      <td>NaN</td>\n",
       "      <td>0</td>\n",
       "      <td>NaN</td>\n",
       "      <td>0</td>\n",
       "      <td>NaN</td>\n",
       "      <td>NaN</td>\n",
       "      <td>NaN</td>\n",
       "      <td>1</td>\n",
       "      <td>NaN</td>\n",
       "    </tr>\n",
       "    <tr>\n",
       "      <th>3</th>\n",
       "      <td>94</td>\n",
       "      <td>2013-01-17 13:00:00.288</td>\n",
       "      <td>2013-01-19 19:59:59.712</td>\n",
       "      <td>45.0</td>\n",
       "      <td>NaN</td>\n",
       "      <td>C48194AA4F</td>\n",
       "      <td>2012-12-26 21:52:18.048</td>\n",
       "      <td>2013-05-23 19:05:13.920</td>\n",
       "      <td>NaN</td>\n",
       "      <td>cancelled</td>\n",
       "      <td>...</td>\n",
       "      <td>NaN</td>\n",
       "      <td>NaN</td>\n",
       "      <td>0</td>\n",
       "      <td>NaN</td>\n",
       "      <td>0</td>\n",
       "      <td>NaN</td>\n",
       "      <td>NaN</td>\n",
       "      <td>NaN</td>\n",
       "      <td>1</td>\n",
       "      <td>NaN</td>\n",
       "    </tr>\n",
       "    <tr>\n",
       "      <th>4</th>\n",
       "      <td>95</td>\n",
       "      <td>2013-01-16 23:30:00.288</td>\n",
       "      <td>2013-01-17 19:00:00.288</td>\n",
       "      <td>55.0</td>\n",
       "      <td>NaN</td>\n",
       "      <td>AABEB48B94</td>\n",
       "      <td>2012-12-26 22:26:28.320</td>\n",
       "      <td>2014-03-04 01:54:51.264</td>\n",
       "      <td>NaN</td>\n",
       "      <td>finished</td>\n",
       "      <td>...</td>\n",
       "      <td>NaN</td>\n",
       "      <td>NaN</td>\n",
       "      <td>0</td>\n",
       "      <td>NaN</td>\n",
       "      <td>0</td>\n",
       "      <td>NaN</td>\n",
       "      <td>NaN</td>\n",
       "      <td>NaN</td>\n",
       "      <td>1</td>\n",
       "      <td>NaN</td>\n",
       "    </tr>\n",
       "  </tbody>\n",
       "</table>\n",
       "<p>5 rows × 52 columns</p>\n",
       "</div>"
      ],
      "text/plain": [
       "   id                  pickup                 dropoff  user_id  status  \\\n",
       "0  89 2013-01-14 07:00:00.288 2013-01-15 09:29:59.712     12.0     NaN   \n",
       "1  91 2013-02-02 19:00:00.288 2013-02-03 19:00:00.288     49.0     NaN   \n",
       "2  93 2013-01-23 10:00:00.288 2013-02-05 19:59:59.712     51.0     NaN   \n",
       "3  94 2013-01-17 13:00:00.288 2013-01-19 19:59:59.712     45.0     NaN   \n",
       "4  95 2013-01-16 23:30:00.288 2013-01-17 19:00:00.288     55.0     NaN   \n",
       "\n",
       "  confirmation_token              created_at              updated_at  \\\n",
       "0         5B23231DC0 2012-12-26 19:31:35.904 2013-05-23 19:05:13.056   \n",
       "1         9A10C66F0C 2012-12-26 20:21:52.992 2013-05-23 19:05:13.920   \n",
       "2         157C8653CA 2012-12-26 20:50:10.752 2013-05-23 19:05:13.920   \n",
       "3         C48194AA4F 2012-12-26 21:52:18.048 2013-05-23 19:05:13.920   \n",
       "4         AABEB48B94 2012-12-26 22:26:28.320 2014-03-04 01:54:51.264   \n",
       "\n",
       "   booked_price current_state       ...        publisher_id  cancelled_at  \\\n",
       "0           NaN     cancelled       ...                 NaN           NaN   \n",
       "1           NaN     cancelled       ...                 NaN           NaN   \n",
       "2           NaN     cancelled       ...                 NaN           NaN   \n",
       "3           NaN     cancelled       ...                 NaN           NaN   \n",
       "4           NaN      finished       ...                 NaN           NaN   \n",
       "\n",
       "   local_rental  booked_by_id  awards_referral_bonus  extole_conversion_id  \\\n",
       "0             0           NaN                      0                   NaN   \n",
       "1             0           NaN                      0                   NaN   \n",
       "2             0           NaN                      0                   NaN   \n",
       "3             0           NaN                      0                   NaN   \n",
       "4             0           NaN                      0                   NaN   \n",
       "\n",
       "   potential_local_rental  claimed_at  customer_modifiable  credit_card_id  \n",
       "0                     NaN         NaN                    1             NaN  \n",
       "1                     NaN         NaN                    1             NaN  \n",
       "2                     NaN         NaN                    1             NaN  \n",
       "3                     NaN         NaN                    1             NaN  \n",
       "4                     NaN         NaN                    1             NaN  \n",
       "\n",
       "[5 rows x 52 columns]"
      ]
     },
     "execution_count": 218,
     "metadata": {},
     "output_type": "execute_result"
    }
   ],
   "source": [
    "df.head()"
   ]
  },
  {
   "cell_type": "code",
   "execution_count": 219,
   "metadata": {},
   "outputs": [
    {
     "data": {
      "text/plain": [
       "finished                      268088\n",
       "cancelled                     162600\n",
       "no_showed                      23013\n",
       "booked                          6172\n",
       "payment_declined_cancelled      2065\n",
       "started                          621\n",
       "pending_agreement                  5\n",
       "Name: current_state, dtype: int64"
      ]
     },
     "execution_count": 219,
     "metadata": {},
     "output_type": "execute_result"
    }
   ],
   "source": [
    "df[\"current_state\"].value_counts()"
   ]
  },
  {
   "cell_type": "code",
   "execution_count": 220,
   "metadata": {
    "collapsed": true
   },
   "outputs": [],
   "source": [
    "# df[\"promo_code_id\"].dropna(inplace=True)\n",
    "# for promo in df[\"promo_code_id\"].unique():\n",
    "#     if promo not in set(df_promo_codes[\"id\"]):\n",
    "#         print(promo)"
   ]
  },
  {
   "cell_type": "code",
   "execution_count": 221,
   "metadata": {
    "collapsed": true
   },
   "outputs": [],
   "source": [
    "df_test = df[(df[\"current_state\"] == \"cancelled\") | (df[\"current_state\"] == \"finished\")]"
   ]
  },
  {
   "cell_type": "code",
   "execution_count": 222,
   "metadata": {
    "collapsed": true
   },
   "outputs": [],
   "source": [
    "df_test[\"current_state\"] = df_test[\"current_state\"].map({\"cancelled\": 1, \"finished\": 0})"
   ]
  },
  {
   "cell_type": "code",
   "execution_count": 223,
   "metadata": {
    "collapsed": true
   },
   "outputs": [],
   "source": [
    "df_test[\"time_to_pickup\"] = df_test[\"pickup\"] - df_test[\"created_at\"]\n",
    "df_test[\"time_to_pickup\"] = df_test[\"time_to_pickup\"].dt.total_seconds() / 86400"
   ]
  },
  {
   "cell_type": "code",
   "execution_count": 224,
   "metadata": {
    "collapsed": true
   },
   "outputs": [],
   "source": [
    "df_test[\"used_promo\"] = (df_test[\"promo_code_id\"].notnull()).astype(int)\n",
    "df_test[\"same_location\"] = (df_test[\"pickup_location_id\"] == df_test[\"dropoff_location_id\"]).astype(int)"
   ]
  },
  {
   "cell_type": "code",
   "execution_count": 233,
   "metadata": {
    "collapsed": true
   },
   "outputs": [],
   "source": [
    "cols = [\"current_state\", \"time_to_pickup\", \"reservation_frequency\", \"used_promo\"]\n",
    "df_test2 = df_short[cols]"
   ]
  },
  {
   "cell_type": "code",
   "execution_count": 234,
   "metadata": {
    "collapsed": true
   },
   "outputs": [],
   "source": [
    "df_test2 = df_test2.dropna()\n",
    "df_test2 = pd.get_dummies(df_test2)"
   ]
  },
  {
   "cell_type": "code",
   "execution_count": 235,
   "metadata": {
    "collapsed": true
   },
   "outputs": [],
   "source": [
    "y = df_test2.pop(\"current_state\").values\n",
    "X = df_test2.values\n",
    "X_train, X_test, y_train, y_test = train_test_split(X, y)"
   ]
  },
  {
   "cell_type": "code",
   "execution_count": 236,
   "metadata": {},
   "outputs": [
    {
     "data": {
      "text/plain": [
       "0.74545029812227459"
      ]
     },
     "execution_count": 236,
     "metadata": {},
     "output_type": "execute_result"
    }
   ],
   "source": [
    "lr = LogisticRegression()\n",
    "lr.fit(X_train, y_train)\n",
    "lr.score(X_test, y_test)"
   ]
  },
  {
   "cell_type": "code",
   "execution_count": 207,
   "metadata": {},
   "outputs": [
    {
     "data": {
      "text/plain": [
       "array([ 0.16161631,  0.16542135,  0.23284419, ...,  0.27680468,\n",
       "        0.24271922,  0.16871245])"
      ]
     },
     "execution_count": 207,
     "metadata": {},
     "output_type": "execute_result"
    }
   ],
   "source": [
    "lr.predict_proba(X_test)[:, 1]"
   ]
  },
  {
   "cell_type": "code",
   "execution_count": 208,
   "metadata": {},
   "outputs": [
    {
     "data": {
      "text/plain": [
       "0.74945492569191063"
      ]
     },
     "execution_count": 208,
     "metadata": {},
     "output_type": "execute_result"
    }
   ],
   "source": [
    "rf = RandomForestClassifier(max_depth=5, n_estimators=20)\n",
    "rf.fit(X_train, y_train)\n",
    "rf.score(X_test, y_test)"
   ]
  },
  {
   "cell_type": "code",
   "execution_count": 238,
   "metadata": {},
   "outputs": [
    {
     "data": {
      "text/html": [
       "<div>\n",
       "<style>\n",
       "    .dataframe thead tr:only-child th {\n",
       "        text-align: right;\n",
       "    }\n",
       "\n",
       "    .dataframe thead th {\n",
       "        text-align: left;\n",
       "    }\n",
       "\n",
       "    .dataframe tbody tr th {\n",
       "        vertical-align: top;\n",
       "    }\n",
       "</style>\n",
       "<table border=\"1\" class=\"dataframe\">\n",
       "  <thead>\n",
       "    <tr style=\"text-align: right;\">\n",
       "      <th></th>\n",
       "      <th>id</th>\n",
       "      <th>code</th>\n",
       "      <th>created_at</th>\n",
       "      <th>updated_at</th>\n",
       "      <th>promotion_id</th>\n",
       "      <th>promo_code_batch_id</th>\n",
       "      <th>active</th>\n",
       "    </tr>\n",
       "  </thead>\n",
       "  <tbody>\n",
       "    <tr>\n",
       "      <th>0</th>\n",
       "      <td>1</td>\n",
       "      <td>78S7S0DJS9</td>\n",
       "      <td>03:07.0</td>\n",
       "      <td>21:16.0</td>\n",
       "      <td>18</td>\n",
       "      <td>NaN</td>\n",
       "      <td>0</td>\n",
       "    </tr>\n",
       "    <tr>\n",
       "      <th>1</th>\n",
       "      <td>2</td>\n",
       "      <td>HHD8S797SS</td>\n",
       "      <td>03:08.0</td>\n",
       "      <td>21:40.0</td>\n",
       "      <td>19</td>\n",
       "      <td>NaN</td>\n",
       "      <td>0</td>\n",
       "    </tr>\n",
       "    <tr>\n",
       "      <th>2</th>\n",
       "      <td>3</td>\n",
       "      <td>XX7648743A</td>\n",
       "      <td>03:08.0</td>\n",
       "      <td>22:03.0</td>\n",
       "      <td>20</td>\n",
       "      <td>NaN</td>\n",
       "      <td>0</td>\n",
       "    </tr>\n",
       "    <tr>\n",
       "      <th>3</th>\n",
       "      <td>4</td>\n",
       "      <td>KPDFWMUC05</td>\n",
       "      <td>19:25.0</td>\n",
       "      <td>10:42.0</td>\n",
       "      <td>21</td>\n",
       "      <td>NaN</td>\n",
       "      <td>0</td>\n",
       "    </tr>\n",
       "    <tr>\n",
       "      <th>4</th>\n",
       "      <td>5</td>\n",
       "      <td>KPDFWMUC10</td>\n",
       "      <td>23:27.0</td>\n",
       "      <td>11:10.0</td>\n",
       "      <td>22</td>\n",
       "      <td>NaN</td>\n",
       "      <td>0</td>\n",
       "    </tr>\n",
       "  </tbody>\n",
       "</table>\n",
       "</div>"
      ],
      "text/plain": [
       "   id        code created_at updated_at  promotion_id  promo_code_batch_id  \\\n",
       "0   1  78S7S0DJS9    03:07.0    21:16.0            18                  NaN   \n",
       "1   2  HHD8S797SS    03:08.0    21:40.0            19                  NaN   \n",
       "2   3  XX7648743A    03:08.0    22:03.0            20                  NaN   \n",
       "3   4  KPDFWMUC05    19:25.0    10:42.0            21                  NaN   \n",
       "4   5  KPDFWMUC10    23:27.0    11:10.0            22                  NaN   \n",
       "\n",
       "   active  \n",
       "0       0  \n",
       "1       0  \n",
       "2       0  \n",
       "3       0  \n",
       "4       0  "
      ]
     },
     "execution_count": 238,
     "metadata": {},
     "output_type": "execute_result"
    }
   ],
   "source": [
    "df_promo_codes.head()"
   ]
  },
  {
   "cell_type": "code",
   "execution_count": null,
   "metadata": {
    "collapsed": true
   },
   "outputs": [],
   "source": []
  }
 ],
 "metadata": {
  "kernelspec": {
   "display_name": "Python 3",
   "language": "python",
   "name": "python3"
  },
  "language_info": {
   "codemirror_mode": {
    "name": "ipython",
    "version": 3
   },
   "file_extension": ".py",
   "mimetype": "text/x-python",
   "name": "python",
   "nbconvert_exporter": "python",
   "pygments_lexer": "ipython3",
   "version": "3.6.3"
  }
 },
 "nbformat": 4,
 "nbformat_minor": 2
}
