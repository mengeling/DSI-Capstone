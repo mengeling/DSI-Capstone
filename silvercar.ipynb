{
 "cells": [
  {
   "cell_type": "code",
   "execution_count": 1,
   "metadata": {
    "collapsed": true
   },
   "outputs": [],
   "source": [
    "import pandas as pd\n",
    "import numpy as np\n",
    "import warnings\n",
    "warnings.filterwarnings(\"ignore\")\n",
    "import matplotlib.pyplot as plt\n",
    "%matplotlib inline\n",
    "from sklearn.model_selection import train_test_split\n",
    "from sklearn.linear_model import LogisticRegression\n",
    "from sklearn.ensemble import RandomForestClassifier"
   ]
  },
  {
   "cell_type": "code",
   "execution_count": 2,
   "metadata": {
    "collapsed": true
   },
   "outputs": [],
   "source": [
    "df = pd.read_csv('data/silvercar_reservations.csv')\n",
    "df_users = pd.read_csv('data/silvercar_users.csv')\n",
    "df_promos = pd.read_csv('data/silvercar_promotions.csv', encoding=\"ISO-8859-1\")\n",
    "df_promo_codes = pd.read_csv('data/silvercar_promo_codes.csv', encoding=\"ISO-8859-1\")\n",
    "df_locs = pd.read_csv('data/silvercar_locations.csv', encoding=\"ISO-8859-1\")"
   ]
  },
  {
   "cell_type": "code",
   "execution_count": 3,
   "metadata": {},
   "outputs": [
    {
     "data": {
      "text/html": [
       "<div>\n",
       "<style>\n",
       "    .dataframe thead tr:only-child th {\n",
       "        text-align: right;\n",
       "    }\n",
       "\n",
       "    .dataframe thead th {\n",
       "        text-align: left;\n",
       "    }\n",
       "\n",
       "    .dataframe tbody tr th {\n",
       "        vertical-align: top;\n",
       "    }\n",
       "</style>\n",
       "<table border=\"1\" class=\"dataframe\">\n",
       "  <thead>\n",
       "    <tr style=\"text-align: right;\">\n",
       "      <th></th>\n",
       "      <th>id</th>\n",
       "      <th>pickup</th>\n",
       "      <th>dropoff</th>\n",
       "      <th>user_id</th>\n",
       "      <th>status</th>\n",
       "      <th>confirmation_token</th>\n",
       "      <th>created_at</th>\n",
       "      <th>updated_at</th>\n",
       "      <th>booked_price</th>\n",
       "      <th>current_state</th>\n",
       "      <th>...</th>\n",
       "      <th>publisher_id</th>\n",
       "      <th>cancelled_at</th>\n",
       "      <th>local_rental</th>\n",
       "      <th>booked_by_id</th>\n",
       "      <th>awards_referral_bonus</th>\n",
       "      <th>extole_conversion_id</th>\n",
       "      <th>potential_local_rental</th>\n",
       "      <th>claimed_at</th>\n",
       "      <th>customer_modifiable</th>\n",
       "      <th>credit_card_id</th>\n",
       "    </tr>\n",
       "  </thead>\n",
       "  <tbody>\n",
       "    <tr>\n",
       "      <th>0</th>\n",
       "      <td>89</td>\n",
       "      <td>41288.29167</td>\n",
       "      <td>41289.39583</td>\n",
       "      <td>12.0</td>\n",
       "      <td>NaN</td>\n",
       "      <td>5B23231DC0</td>\n",
       "      <td>41269.81361</td>\n",
       "      <td>41417.79529</td>\n",
       "      <td>NaN</td>\n",
       "      <td>cancelled</td>\n",
       "      <td>...</td>\n",
       "      <td>NaN</td>\n",
       "      <td>NaN</td>\n",
       "      <td>0</td>\n",
       "      <td>NaN</td>\n",
       "      <td>0</td>\n",
       "      <td>NaN</td>\n",
       "      <td>NaN</td>\n",
       "      <td>NaN</td>\n",
       "      <td>1</td>\n",
       "      <td>NaN</td>\n",
       "    </tr>\n",
       "    <tr>\n",
       "      <th>1</th>\n",
       "      <td>91</td>\n",
       "      <td>41307.79167</td>\n",
       "      <td>41308.79167</td>\n",
       "      <td>49.0</td>\n",
       "      <td>NaN</td>\n",
       "      <td>9A10C66F0C</td>\n",
       "      <td>41269.84853</td>\n",
       "      <td>41417.79530</td>\n",
       "      <td>NaN</td>\n",
       "      <td>cancelled</td>\n",
       "      <td>...</td>\n",
       "      <td>NaN</td>\n",
       "      <td>NaN</td>\n",
       "      <td>0</td>\n",
       "      <td>NaN</td>\n",
       "      <td>0</td>\n",
       "      <td>NaN</td>\n",
       "      <td>NaN</td>\n",
       "      <td>NaN</td>\n",
       "      <td>1</td>\n",
       "      <td>NaN</td>\n",
       "    </tr>\n",
       "    <tr>\n",
       "      <th>2</th>\n",
       "      <td>93</td>\n",
       "      <td>41297.41667</td>\n",
       "      <td>41310.83333</td>\n",
       "      <td>51.0</td>\n",
       "      <td>NaN</td>\n",
       "      <td>157C8653CA</td>\n",
       "      <td>41269.86818</td>\n",
       "      <td>41417.79530</td>\n",
       "      <td>NaN</td>\n",
       "      <td>cancelled</td>\n",
       "      <td>...</td>\n",
       "      <td>NaN</td>\n",
       "      <td>NaN</td>\n",
       "      <td>0</td>\n",
       "      <td>NaN</td>\n",
       "      <td>0</td>\n",
       "      <td>NaN</td>\n",
       "      <td>NaN</td>\n",
       "      <td>NaN</td>\n",
       "      <td>1</td>\n",
       "      <td>NaN</td>\n",
       "    </tr>\n",
       "    <tr>\n",
       "      <th>3</th>\n",
       "      <td>94</td>\n",
       "      <td>41291.54167</td>\n",
       "      <td>41293.83333</td>\n",
       "      <td>45.0</td>\n",
       "      <td>NaN</td>\n",
       "      <td>C48194AA4F</td>\n",
       "      <td>41269.91132</td>\n",
       "      <td>41417.79530</td>\n",
       "      <td>NaN</td>\n",
       "      <td>cancelled</td>\n",
       "      <td>...</td>\n",
       "      <td>NaN</td>\n",
       "      <td>NaN</td>\n",
       "      <td>0</td>\n",
       "      <td>NaN</td>\n",
       "      <td>0</td>\n",
       "      <td>NaN</td>\n",
       "      <td>NaN</td>\n",
       "      <td>NaN</td>\n",
       "      <td>1</td>\n",
       "      <td>NaN</td>\n",
       "    </tr>\n",
       "    <tr>\n",
       "      <th>4</th>\n",
       "      <td>95</td>\n",
       "      <td>41290.97917</td>\n",
       "      <td>41291.79167</td>\n",
       "      <td>55.0</td>\n",
       "      <td>NaN</td>\n",
       "      <td>AABEB48B94</td>\n",
       "      <td>41269.93505</td>\n",
       "      <td>41702.07976</td>\n",
       "      <td>NaN</td>\n",
       "      <td>finished</td>\n",
       "      <td>...</td>\n",
       "      <td>NaN</td>\n",
       "      <td>NaN</td>\n",
       "      <td>0</td>\n",
       "      <td>NaN</td>\n",
       "      <td>0</td>\n",
       "      <td>NaN</td>\n",
       "      <td>NaN</td>\n",
       "      <td>NaN</td>\n",
       "      <td>1</td>\n",
       "      <td>NaN</td>\n",
       "    </tr>\n",
       "  </tbody>\n",
       "</table>\n",
       "<p>5 rows × 52 columns</p>\n",
       "</div>"
      ],
      "text/plain": [
       "   id       pickup      dropoff  user_id  status confirmation_token  \\\n",
       "0  89  41288.29167  41289.39583     12.0     NaN         5B23231DC0   \n",
       "1  91  41307.79167  41308.79167     49.0     NaN         9A10C66F0C   \n",
       "2  93  41297.41667  41310.83333     51.0     NaN         157C8653CA   \n",
       "3  94  41291.54167  41293.83333     45.0     NaN         C48194AA4F   \n",
       "4  95  41290.97917  41291.79167     55.0     NaN         AABEB48B94   \n",
       "\n",
       "    created_at   updated_at  booked_price current_state       ...        \\\n",
       "0  41269.81361  41417.79529           NaN     cancelled       ...         \n",
       "1  41269.84853  41417.79530           NaN     cancelled       ...         \n",
       "2  41269.86818  41417.79530           NaN     cancelled       ...         \n",
       "3  41269.91132  41417.79530           NaN     cancelled       ...         \n",
       "4  41269.93505  41702.07976           NaN      finished       ...         \n",
       "\n",
       "   publisher_id  cancelled_at  local_rental  booked_by_id  \\\n",
       "0           NaN           NaN             0           NaN   \n",
       "1           NaN           NaN             0           NaN   \n",
       "2           NaN           NaN             0           NaN   \n",
       "3           NaN           NaN             0           NaN   \n",
       "4           NaN           NaN             0           NaN   \n",
       "\n",
       "   awards_referral_bonus  extole_conversion_id  potential_local_rental  \\\n",
       "0                      0                   NaN                     NaN   \n",
       "1                      0                   NaN                     NaN   \n",
       "2                      0                   NaN                     NaN   \n",
       "3                      0                   NaN                     NaN   \n",
       "4                      0                   NaN                     NaN   \n",
       "\n",
       "   claimed_at  customer_modifiable  credit_card_id  \n",
       "0         NaN                    1             NaN  \n",
       "1         NaN                    1             NaN  \n",
       "2         NaN                    1             NaN  \n",
       "3         NaN                    1             NaN  \n",
       "4         NaN                    1             NaN  \n",
       "\n",
       "[5 rows x 52 columns]"
      ]
     },
     "execution_count": 3,
     "metadata": {},
     "output_type": "execute_result"
    }
   ],
   "source": [
    "df.head()"
   ]
  },
  {
   "cell_type": "code",
   "execution_count": 4,
   "metadata": {},
   "outputs": [
    {
     "data": {
      "text/plain": [
       "id                                                 0\n",
       "pickup                                             0\n",
       "dropoff                                            0\n",
       "user_id                                            1\n",
       "status                                        462564\n",
       "confirmation_token                                 0\n",
       "created_at                                         0\n",
       "updated_at                                         0\n",
       "booked_price                                  439186\n",
       "current_state                                      0\n",
       "booked_daily_rate                             439186\n",
       "confirmed                                          0\n",
       "reservation_type_id                                0\n",
       "pickup_location_id                                 0\n",
       "dropoff_location_id                                0\n",
       "rental_agreement_id                           193945\n",
       "promo_code_id                                 265766\n",
       "actual_pickup                                 193823\n",
       "actual_dropoff                                194458\n",
       "one_day_reminder_sent                              0\n",
       "two_day_reminder_profile_incomplete_sent           0\n",
       "three_day_reminder_profile_incomplete_sent         0\n",
       "created_as_guest                                   0\n",
       "user_profile_point_program_id                 430207\n",
       "affiliate_program_id                          458545\n",
       "commission_percentage                              0\n",
       "location_service_type_id                          28\n",
       "booking_user_agent                             29785\n",
       "booking_application                             6681\n",
       "ignore_availability_requirements                  10\n",
       "fuel_level                                    194719\n",
       "rebook_of_id                                  436855\n",
       "rebooked_by_id                                438346\n",
       "reservation_frequency                          74028\n",
       "car_scanned_at                                200814\n",
       "disqualified_promo_code_id                    461493\n",
       "consolation_promo_code_id                     462528\n",
       "utm_source                                    410054\n",
       "utm_medium                                    410113\n",
       "utm_campaign                                  427757\n",
       "utm_term                                      447501\n",
       "utm_content                                   451663\n",
       "publisher_id                                  442365\n",
       "cancelled_at                                  315510\n",
       "local_rental                                       0\n",
       "booked_by_id                                  427238\n",
       "awards_referral_bonus                              0\n",
       "extole_conversion_id                          440880\n",
       "potential_local_rental                        394661\n",
       "claimed_at                                    454916\n",
       "customer_modifiable                                0\n",
       "credit_card_id                                311991\n",
       "dtype: int64"
      ]
     },
     "execution_count": 4,
     "metadata": {},
     "output_type": "execute_result"
    }
   ],
   "source": [
    "np.sum(df.isnull())"
   ]
  },
  {
   "cell_type": "code",
   "execution_count": 5,
   "metadata": {},
   "outputs": [
    {
     "data": {
      "text/plain": [
       "array([nan, 'web', 'iphone-appstore', 'android', 'kiosk',\n",
       "       'iphone-concierge', 'gds', 'iphone-debug', 'web-desktop',\n",
       "       'web-mobile', 'web-tablet'], dtype=object)"
      ]
     },
     "execution_count": 5,
     "metadata": {},
     "output_type": "execute_result"
    }
   ],
   "source": [
    "df[\"booking_application\"].unique()"
   ]
  },
  {
   "cell_type": "code",
   "execution_count": 6,
   "metadata": {
    "collapsed": true
   },
   "outputs": [],
   "source": [
    "df[\"pickup\"] = pd.to_datetime('1899-12-30') + pd.to_timedelta(df[\"pickup\"], 'D')\n",
    "df[\"dropoff\"] = pd.to_datetime('1899-12-30') + pd.to_timedelta(df[\"dropoff\"], 'D')\n",
    "df[\"created_at\"] = pd.to_datetime('1899-12-30') + pd.to_timedelta(df[\"created_at\"], 'D')\n",
    "df[\"updated_at\"] = pd.to_datetime('1899-12-30') + pd.to_timedelta(df[\"updated_at\"], 'D')"
   ]
  },
  {
   "cell_type": "code",
   "execution_count": 7,
   "metadata": {},
   "outputs": [
    {
     "name": "stdout",
     "output_type": "stream",
     "text": [
      "2012-12-26 19:31:35.904000\n",
      "2017-12-14 19:02:15.935999999\n"
     ]
    }
   ],
   "source": [
    "print(df[\"created_at\"].min())\n",
    "print(df[\"created_at\"].max())"
   ]
  },
  {
   "cell_type": "code",
   "execution_count": 9,
   "metadata": {},
   "outputs": [
    {
     "data": {
      "text/plain": [
       "finished                      268088\n",
       "cancelled                     162600\n",
       "no_showed                      23013\n",
       "booked                          6172\n",
       "payment_declined_cancelled      2065\n",
       "started                          621\n",
       "pending_agreement                  5\n",
       "Name: current_state, dtype: int64"
      ]
     },
     "execution_count": 9,
     "metadata": {},
     "output_type": "execute_result"
    }
   ],
   "source": [
    "df[\"current_state\"].value_counts()"
   ]
  },
  {
   "cell_type": "code",
   "execution_count": 33,
   "metadata": {
    "collapsed": true
   },
   "outputs": [],
   "source": [
    "df = df[(df[\"current_state\"] == \"cancelled\") | (df[\"current_state\"] == \"finished\")]"
   ]
  },
  {
   "cell_type": "code",
   "execution_count": 34,
   "metadata": {
    "collapsed": true
   },
   "outputs": [],
   "source": [
    "df[\"current_state\"] = df[\"current_state\"].map({\"cancelled\": 1, \"finished\": 0})"
   ]
  },
  {
   "cell_type": "code",
   "execution_count": 35,
   "metadata": {
    "collapsed": true
   },
   "outputs": [],
   "source": [
    "df[\"time_to_pickup\"] = df[\"pickup\"] - df[\"created_at\"]\n",
    "df[\"time_to_pickup\"] = df[\"time_to_pickup\"].dt.total_seconds() / 86400"
   ]
  },
  {
   "cell_type": "code",
   "execution_count": 36,
   "metadata": {
    "collapsed": true
   },
   "outputs": [],
   "source": [
    "df[\"used_promo\"] = (df[\"promo_code_id\"].notnull()).astype(int)\n",
    "df[\"same_location\"] = (df[\"pickup_location_id\"] == df[\"dropoff_location_id\"]).astype(int)"
   ]
  },
  {
   "cell_type": "code",
   "execution_count": 77,
   "metadata": {
    "collapsed": true
   },
   "outputs": [],
   "source": [
    "cols = [\"user_id\", \"current_state\", \"time_to_pickup\", \"reservation_frequency\", \"used_promo\"]\n",
    "df_model = df[cols]\n",
    "df_model.dropna(inplace=True)\n",
    "df_model = pd.get_dummies(df_model)"
   ]
  },
  {
   "cell_type": "code",
   "execution_count": 78,
   "metadata": {
    "collapsed": true
   },
   "outputs": [],
   "source": [
    "df_users_model = df_users[[\"id\", \"sign_in_count\"]].set_index(\"id\")"
   ]
  },
  {
   "cell_type": "code",
   "execution_count": 79,
   "metadata": {
    "collapsed": true
   },
   "outputs": [],
   "source": [
    "df_model = df_model.join(df_users_model, how=\"left\", on=\"user_id\")\n",
    "df_model.drop(\"user_id\", axis=1, inplace=True)"
   ]
  },
  {
   "cell_type": "code",
   "execution_count": 81,
   "metadata": {
    "collapsed": true
   },
   "outputs": [],
   "source": [
    "y = df_test2.pop(\"current_state\").values\n",
    "X = df_test2.values\n",
    "X_train, X_test, y_train, y_test = train_test_split(X, y)"
   ]
  },
  {
   "cell_type": "code",
   "execution_count": 82,
   "metadata": {},
   "outputs": [
    {
     "data": {
      "text/plain": [
       "0.74543917415680339"
      ]
     },
     "execution_count": 82,
     "metadata": {},
     "output_type": "execute_result"
    }
   ],
   "source": [
    "lr = LogisticRegression()\n",
    "lr.fit(X_train, y_train)\n",
    "lr.score(X_test, y_test)"
   ]
  },
  {
   "cell_type": "code",
   "execution_count": 83,
   "metadata": {},
   "outputs": [
    {
     "data": {
      "text/plain": [
       "array([ 0.19461654,  0.19541119,  0.07161649, ...,  0.08094669,\n",
       "        0.15945837,  0.4679473 ])"
      ]
     },
     "execution_count": 83,
     "metadata": {},
     "output_type": "execute_result"
    }
   ],
   "source": [
    "lr.predict_proba(X_test)[:, 1]"
   ]
  },
  {
   "cell_type": "code",
   "execution_count": 84,
   "metadata": {},
   "outputs": [
    {
     "data": {
      "text/plain": [
       "0.75067856189374393"
      ]
     },
     "execution_count": 84,
     "metadata": {},
     "output_type": "execute_result"
    }
   ],
   "source": [
    "rf = RandomForestClassifier(max_depth=5, n_estimators=20)\n",
    "rf.fit(X_train, y_train)\n",
    "rf.score(X_test, y_test)"
   ]
  },
  {
   "cell_type": "code",
   "execution_count": null,
   "metadata": {
    "collapsed": true
   },
   "outputs": [],
   "source": []
  }
 ],
 "metadata": {
  "kernelspec": {
   "display_name": "Python 3",
   "language": "python",
   "name": "python3"
  },
  "language_info": {
   "codemirror_mode": {
    "name": "ipython",
    "version": 3
   },
   "file_extension": ".py",
   "mimetype": "text/x-python",
   "name": "python",
   "nbconvert_exporter": "python",
   "pygments_lexer": "ipython3",
   "version": "3.6.3"
  }
 },
 "nbformat": 4,
 "nbformat_minor": 2
}
